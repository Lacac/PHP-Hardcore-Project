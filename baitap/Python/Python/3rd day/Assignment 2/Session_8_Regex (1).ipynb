{
  "nbformat": 4,
  "nbformat_minor": 0,
  "metadata": {
    "kernelspec": {
      "display_name": "Python 3",
      "language": "python",
      "name": "python3"
    },
    "language_info": {
      "codemirror_mode": {
        "name": "ipython",
        "version": 3
      },
      "file_extension": ".py",
      "mimetype": "text/x-python",
      "name": "python",
      "nbconvert_exporter": "python",
      "pygments_lexer": "ipython3",
      "version": "3.7.1"
    },
    "pycharm": {
      "stem_cell": {
        "cell_type": "raw",
        "metadata": {
          "collapsed": false
        },
        "source": []
      }
    },
    "colab": {
      "name": "regex_cheatsheet.ipynb",
      "provenance": [],
      "collapsed_sections": [
        "kMKwSJI-4eJE"
      ],
      "toc_visible": true
    }
  },
  "cells": [
    {
      "cell_type": "markdown",
      "metadata": {
        "id": "ioGKwNSH4eHG",
        "colab_type": "text"
      },
      "source": [
        "<h1 align=\"center\">Python regular expression</h1>"
      ]
    },
    {
      "cell_type": "markdown",
      "metadata": {
        "id": "u6paaX104eHI",
        "colab_type": "text"
      },
      "source": [
        "<center><img src=\"https://learnbyexample.github.io/images/books/pyregex_example.png\" alt=\"Regex example\" /></center>"
      ]
    },
    {
      "cell_type": "markdown",
      "metadata": {
        "id": "A03BPcRq4eHJ",
        "colab_type": "text"
      },
      "source": [
        "# <center>re module functions</center>"
      ]
    },
    {
      "cell_type": "code",
      "metadata": {
        "pycharm": {
          "is_executing": false
        },
        "id": "M3RcA6Am4eHK",
        "colab_type": "code",
        "colab": {}
      },
      "source": [
        "import re"
      ],
      "execution_count": null,
      "outputs": []
    },
    {
      "cell_type": "markdown",
      "metadata": {
        "id": "Mw6wthru4eHP",
        "colab_type": "text"
      },
      "source": [
        "### The function definitions are given below:"
      ]
    },
    {
      "cell_type": "markdown",
      "metadata": {
        "id": "ADqaATAI4eHQ",
        "colab_type": "text"
      },
      "source": [
        "- re.search(pattern, string, flags=0)\n",
        "- re.compile(pattern, flags=0)\n",
        "- re.sub(pattern, repl, string, count=0, flags=0)\n",
        "- re.escape(pattern)\n",
        "- re.split(pattern, string, maxsplit=0, flags=0)\n",
        "- re.findall(pattern, string, flags=0)\n",
        "- re.finditer(pattern, string, flags=0)\n",
        "- re.subn(pattern, repl, string, count=0, flags=0)"
      ]
    },
    {
      "cell_type": "markdown",
      "metadata": {
        "id": "IVLpPHBw4eHR",
        "colab_type": "text"
      },
      "source": [
        "### **1. Example for ``re.search``**\n"
      ]
    },
    {
      "cell_type": "code",
      "metadata": {
        "pycharm": {
          "is_executing": false
        },
        "id": "nlL7Itj-4eHU",
        "colab_type": "code",
        "colab": {}
      },
      "source": [
        "sentence = 'This is a sample string'"
      ],
      "execution_count": null,
      "outputs": []
    },
    {
      "cell_type": "code",
      "metadata": {
        "pycharm": {
          "is_executing": false
        },
        "id": "v6_RvkPS4eHe",
        "colab_type": "code",
        "colab": {
          "base_uri": "https://localhost:8080/",
          "height": 34
        },
        "outputId": "e4257c03-1628-4f00-9872-bb323993dfb0"
      },
      "source": [
        "# check if 'sentence' contains the pattern described by RE argument\n",
        "type(re.search(r'is', sentence))"
      ],
      "execution_count": null,
      "outputs": [
        {
          "output_type": "execute_result",
          "data": {
            "text/plain": [
              "_sre.SRE_Match"
            ]
          },
          "metadata": {
            "tags": []
          },
          "execution_count": 3
        }
      ]
    },
    {
      "cell_type": "code",
      "metadata": {
        "id": "auveVcJOG_sp",
        "colab_type": "code",
        "colab": {
          "base_uri": "https://localhost:8080/",
          "height": 34
        },
        "outputId": "c1612dc9-9bc6-490e-ac50-5b085d7ac2b5"
      },
      "source": [
        "re.search(r'b.*d', 'abc ac adc abbbc')"
      ],
      "execution_count": null,
      "outputs": [
        {
          "output_type": "execute_result",
          "data": {
            "text/plain": [
              "<_sre.SRE_Match object; span=(1, 9), match='bc ac ad'>"
            ]
          },
          "metadata": {
            "tags": []
          },
          "execution_count": 4
        }
      ]
    },
    {
      "cell_type": "code",
      "metadata": {
        "id": "KyMV5T893feC",
        "colab_type": "code",
        "colab": {}
      },
      "source": [
        "match = re.search(r'\\b(is).*(ple)', sentence)"
      ],
      "execution_count": null,
      "outputs": []
    },
    {
      "cell_type": "code",
      "metadata": {
        "id": "ihwUIMEJ3rjh",
        "colab_type": "code",
        "colab": {
          "base_uri": "https://localhost:8080/",
          "height": 34
        },
        "outputId": "1331a6e8-234b-44d4-a87c-29ca029e9f96"
      },
      "source": [
        "match.group()"
      ],
      "execution_count": null,
      "outputs": [
        {
          "output_type": "execute_result",
          "data": {
            "text/plain": [
              "'is a sample'"
            ]
          },
          "metadata": {
            "tags": []
          },
          "execution_count": 6
        }
      ]
    },
    {
      "cell_type": "code",
      "metadata": {
        "id": "Mn6loUZh3wab",
        "colab_type": "code",
        "colab": {
          "base_uri": "https://localhost:8080/",
          "height": 34
        },
        "outputId": "0e85e691-d77a-47f1-d3dd-b4c63a5f8a0b"
      },
      "source": [
        "match.groups()"
      ],
      "execution_count": null,
      "outputs": [
        {
          "output_type": "execute_result",
          "data": {
            "text/plain": [
              "('is', 'ple')"
            ]
          },
          "metadata": {
            "tags": []
          },
          "execution_count": 7
        }
      ]
    },
    {
      "cell_type": "code",
      "metadata": {
        "pycharm": {
          "is_executing": false
        },
        "id": "KS-EsoVf4eHl",
        "colab_type": "code",
        "colab": {
          "base_uri": "https://localhost:8080/",
          "height": 34
        },
        "outputId": "a960c70a-3bda-4df5-959a-d3a825bf06e0"
      },
      "source": [
        "# ignore case while searching for a match\n",
        "bool(re.search(r'this', sentence, flags=re.I))"
      ],
      "execution_count": null,
      "outputs": [
        {
          "output_type": "execute_result",
          "data": {
            "text/plain": [
              "True"
            ]
          },
          "metadata": {
            "tags": []
          },
          "execution_count": 8
        }
      ]
    },
    {
      "cell_type": "code",
      "metadata": {
        "pycharm": {
          "is_executing": false
        },
        "id": "v-brFKn34eHr",
        "colab_type": "code",
        "colab": {
          "base_uri": "https://localhost:8080/",
          "height": 34
        },
        "outputId": "b814597a-1895-4cc7-807b-2fab6b8d111a"
      },
      "source": [
        "bool(re.search(r'xyz', sentence))"
      ],
      "execution_count": null,
      "outputs": [
        {
          "output_type": "execute_result",
          "data": {
            "text/plain": [
              "False"
            ]
          },
          "metadata": {
            "tags": []
          },
          "execution_count": 9
        }
      ]
    },
    {
      "cell_type": "code",
      "metadata": {
        "pycharm": {
          "is_executing": false
        },
        "id": "2Bupq1Ml4eHv",
        "colab_type": "code",
        "colab": {
          "base_uri": "https://localhost:8080/",
          "height": 34
        },
        "outputId": "249b66fd-9367-46df-89c7-1bb76c5bc2e7"
      },
      "source": [
        "# re.search output can be directly used in conditional expressions\n",
        "if re.search(r'ring', sentence):\n",
        "    print('True')"
      ],
      "execution_count": null,
      "outputs": [
        {
          "output_type": "stream",
          "text": [
            "True\n"
          ],
          "name": "stdout"
        }
      ]
    },
    {
      "cell_type": "code",
      "metadata": {
        "pycharm": {
          "is_executing": false,
          "name": "#%% \n"
        },
        "id": "zg0VImvN4eIq",
        "colab_type": "code",
        "colab": {
          "base_uri": "https://localhost:8080/",
          "height": 34
        },
        "outputId": "8497ecbb-a8d7-4a65-e498-93a67ff4957d"
      },
      "source": [
        "words = ['The effort', 'flee', 'facade', 'oddball', 'rat', 'tool']\n",
        "[w for w in words if re.search(r'\\b\\w*(\\w)\\1\\w*\\b', w)]"
      ],
      "execution_count": null,
      "outputs": [
        {
          "output_type": "execute_result",
          "data": {
            "text/plain": [
              "['The effort', 'flee', 'oddball', 'tool']"
            ]
          },
          "metadata": {
            "tags": []
          },
          "execution_count": 11
        }
      ]
    },
    {
      "cell_type": "code",
      "metadata": {
        "id": "unhP0UmtNJgs",
        "colab_type": "code",
        "colab": {
          "base_uri": "https://localhost:8080/",
          "height": 34
        },
        "outputId": "ba47cc9b-84bc-4a1d-b068-d09fecf6e60c"
      },
      "source": [
        "words = ['effort', 'flee', 'facade', 'oddball', 'rat', 'tool']\n",
        "[w for w in words if re.search(r'\\b\\w*(\\w)\\1\\w*(\\w)\\2\\w*\\b', w)]"
      ],
      "execution_count": null,
      "outputs": [
        {
          "output_type": "execute_result",
          "data": {
            "text/plain": [
              "['oddball']"
            ]
          },
          "metadata": {
            "tags": []
          },
          "execution_count": 12
        }
      ]
    },
    {
      "cell_type": "code",
      "metadata": {
        "id": "_O7ISwNOLX8W",
        "colab_type": "code",
        "colab": {
          "base_uri": "https://localhost:8080/"
        },
        "outputId": "c5302bc4-7b71-4a19-fe28-bbfd1310c9b5"
      },
      "source": [
        "test = re.findall(r'\\d{2, 3')"
      ],
      "execution_count": null,
      "outputs": [
        {
          "output_type": "error",
          "ename": "TypeError",
          "evalue": "ignored",
          "traceback": [
            "\u001b[0;31m---------------------------------------------------------------------------\u001b[0m",
            "\u001b[0;31mTypeError\u001b[0m                                 Traceback (most recent call last)",
            "\u001b[0;32m<ipython-input-13-5f9011242526>\u001b[0m in \u001b[0;36m<module>\u001b[0;34m()\u001b[0m\n\u001b[0;32m----> 1\u001b[0;31m \u001b[0mtest\u001b[0m \u001b[0;34m=\u001b[0m \u001b[0mre\u001b[0m\u001b[0;34m.\u001b[0m\u001b[0mfindall\u001b[0m\u001b[0;34m(\u001b[0m\u001b[0;34mr'\\d{2, 3'\u001b[0m\u001b[0;34m)\u001b[0m\u001b[0;34m\u001b[0m\u001b[0;34m\u001b[0m\u001b[0m\n\u001b[0m",
            "\u001b[0;31mTypeError\u001b[0m: findall() missing 1 required positional argument: 'string'"
          ]
        }
      ]
    },
    {
      "cell_type": "markdown",
      "metadata": {
        "id": "mQ19HqQA4eH7",
        "colab_type": "text"
      },
      "source": [
        "### Use raw byte strings if input is of byte data type"
      ]
    },
    {
      "cell_type": "code",
      "metadata": {
        "pycharm": {
          "is_executing": false
        },
        "id": "UpTcQf954eH8",
        "colab_type": "code",
        "colab": {}
      },
      "source": [
        "bool(re.search(rb'is', b'This is a sample string'))"
      ],
      "execution_count": null,
      "outputs": []
    },
    {
      "cell_type": "markdown",
      "metadata": {
        "id": "RibpYMRF4eH_",
        "colab_type": "text"
      },
      "source": [
        "## Difference between string and line anchors"
      ]
    },
    {
      "cell_type": "markdown",
      "metadata": {
        "id": "xQT2GJm64eIA",
        "colab_type": "text"
      },
      "source": [
        "### - string anchors"
      ]
    },
    {
      "cell_type": "code",
      "metadata": {
        "pycharm": {
          "is_executing": false
        },
        "id": "LK4KzuTz4eIA",
        "colab_type": "code",
        "colab": {}
      },
      "source": [
        "bool(re.search(r'^par$', 'spare\\npar\\ndare'))\n"
      ],
      "execution_count": null,
      "outputs": []
    },
    {
      "cell_type": "markdown",
      "metadata": {
        "id": "ESOryG0-4eIJ",
        "colab_type": "text"
      },
      "source": [
        "### - line anchors"
      ]
    },
    {
      "cell_type": "code",
      "metadata": {
        "pycharm": {
          "is_executing": false
        },
        "id": "Szfk76R54eIJ",
        "colab_type": "code",
        "colab": {}
      },
      "source": [
        "bool(re.search(r'^par$', 'spare\\npar\\ndare', flags=re.M))"
      ],
      "execution_count": null,
      "outputs": []
    },
    {
      "cell_type": "markdown",
      "metadata": {
        "id": "vkzt5HUt4eIM",
        "colab_type": "text"
      },
      "source": [
        "### **1. Example for ``re.findall``**"
      ]
    },
    {
      "cell_type": "code",
      "metadata": {
        "pycharm": {
          "is_executing": false
        },
        "id": "r6biVT1P4eIM",
        "colab_type": "code",
        "colab": {}
      },
      "source": [
        "re.findall(r'\\bs?pare?\\b', 'par spar apparent spare part pare')"
      ],
      "execution_count": null,
      "outputs": []
    },
    {
      "cell_type": "code",
      "metadata": {
        "pycharm": {
          "is_executing": false
        },
        "id": "SFUHER1r4eIP",
        "colab_type": "code",
        "colab": {}
      },
      "source": [
        "re.findall(r'\\b0*[1-9]\\d{1,3,}.\\d{1,3}\\b', '0501 035 154 12 26 98234')"
      ],
      "execution_count": null,
      "outputs": []
    },
    {
      "cell_type": "code",
      "metadata": {
        "pycharm": {
          "is_executing": false
        },
        "id": "vIO0rdXa4eIR",
        "colab_type": "code",
        "colab": {}
      },
      "source": [
        "re.findall(r'(x*):(y*)', 'xx:yyy x: x:yy :y')"
      ],
      "execution_count": null,
      "outputs": []
    },
    {
      "cell_type": "code",
      "metadata": {
        "pycharm": {
          "is_executing": false
        },
        "id": "udO-CK774eIT",
        "colab_type": "code",
        "colab": {}
      },
      "source": [
        "re.findall(r'\\b\\w*(?:ách|au)\\b', 'bao giờ mới hết cách ly để anh em ta gặp nhau')"
      ],
      "execution_count": null,
      "outputs": []
    },
    {
      "cell_type": "markdown",
      "metadata": {
        "id": "fK_DuX3H4eIg",
        "colab_type": "text"
      },
      "source": [
        "### **2. Example for ``re.split``**"
      ]
    },
    {
      "cell_type": "code",
      "metadata": {
        "pycharm": {
          "is_executing": false
        },
        "id": "FjIGFwgR4eIh",
        "colab_type": "code",
        "colab": {}
      },
      "source": [
        "re.split(r'\\d+', 'Sample123string42with777numbers')"
      ],
      "execution_count": null,
      "outputs": []
    },
    {
      "cell_type": "code",
      "metadata": {
        "pycharm": {
          "is_executing": false
        },
        "id": "TTTiRdw94eIj",
        "colab_type": "code",
        "colab": {}
      },
      "source": [
        "re.split(r'[\\d\\s]+', '**1\\f2\\n3star\\t7 77\\r**')"
      ],
      "execution_count": null,
      "outputs": []
    },
    {
      "cell_type": "code",
      "metadata": {
        "pycharm": {
          "is_executing": false
        },
        "id": "NNRBwj8s4eIl",
        "colab_type": "code",
        "colab": {}
      },
      "source": [
        "re.split(r'(\\d+)', 'Sample123string42with777numbers')"
      ],
      "execution_count": null,
      "outputs": []
    },
    {
      "cell_type": "code",
      "metadata": {
        "pycharm": {
          "is_executing": false
        },
        "id": "xd4hg22_4eIo",
        "colab_type": "code",
        "colab": {}
      },
      "source": [
        "re.split(r'(hand(?:y|ful))', '123handed42handy777handful500')"
      ],
      "execution_count": null,
      "outputs": []
    },
    {
      "cell_type": "code",
      "metadata": {
        "jupyter": {
          "outputs_hidden": false
        },
        "pycharm": {
          "is_executing": false,
          "name": "#%%\n"
        },
        "id": "Y9mIvWvt4eIt",
        "colab_type": "code",
        "colab": {}
      },
      "source": [
        "ff = re.findall(r'\\b\\w*(\\w)\\1\\w*\\b', words[0])\n",
        "print(ff)"
      ],
      "execution_count": null,
      "outputs": []
    },
    {
      "cell_type": "markdown",
      "metadata": {
        "pycharm": {
          "name": "#%% md\n"
        },
        "id": "kMKwSJI-4eJE",
        "colab_type": "text"
      },
      "source": [
        "### **3. Example for ``re.finditer``**\n"
      ]
    },
    {
      "cell_type": "code",
      "metadata": {
        "jupyter": {
          "outputs_hidden": false
        },
        "pycharm": {
          "is_executing": false,
          "name": "#%%\n"
        },
        "id": "c8kHfYdF4eJE",
        "colab_type": "code",
        "colab": {}
      },
      "source": [
        "# numbers < 350\n",
        "m_iter = re.finditer(r'[0-9]+', '45 349 651 593 4 204')\n",
        "[m for m in m_iter]"
      ],
      "execution_count": null,
      "outputs": []
    },
    {
      "cell_type": "code",
      "metadata": {
        "jupyter": {
          "outputs_hidden": false
        },
        "pycharm": {
          "is_executing": false,
          "name": "#%%\n"
        },
        "id": "ObsuTein4eJH",
        "colab_type": "code",
        "colab": {}
      },
      "source": [
        "[m[0] for m in m_iter if int(m[0]) < 350]"
      ],
      "execution_count": null,
      "outputs": []
    },
    {
      "cell_type": "code",
      "metadata": {
        "jupyter": {
          "outputs_hidden": false
        },
        "pycharm": {
          "is_executing": false,
          "name": "#%%\n"
        },
        "id": "aD4UvgIX4eJK",
        "colab_type": "code",
        "colab": {}
      },
      "source": [
        "# start and end+1 index of each matching portion\n",
        "m_iter = re.finditer(r'ab+c', 'abc ac adc abbbc')\n",
        "[m for m in m_iter]"
      ],
      "execution_count": null,
      "outputs": []
    },
    {
      "cell_type": "code",
      "metadata": {
        "jupyter": {
          "outputs_hidden": false
        },
        "pycharm": {
          "is_executing": false,
          "name": "#%%\n"
        },
        "id": "9WoxgCC84eJM",
        "colab_type": "code",
        "colab": {}
      },
      "source": [
        "for m in m_iter:\n",
        "     print(m.span())"
      ],
      "execution_count": null,
      "outputs": []
    },
    {
      "cell_type": "markdown",
      "metadata": {
        "pycharm": {
          "name": "#%% md\n"
        },
        "id": "jFsN5pj-4eJP",
        "colab_type": "text"
      },
      "source": [
        "### **4. Example for ``re.sub``**\n"
      ]
    },
    {
      "cell_type": "code",
      "metadata": {
        "jupyter": {
          "outputs_hidden": false
        },
        "pycharm": {
          "is_executing": false,
          "name": "#%%\n"
        },
        "id": "FrIGSG504eJP",
        "colab_type": "code",
        "colab": {}
      },
      "source": [
        "ip_lines = \"catapults\\nconcatenate\\ncat\""
      ],
      "execution_count": null,
      "outputs": []
    },
    {
      "cell_type": "code",
      "metadata": {
        "jupyter": {
          "outputs_hidden": false
        },
        "pycharm": {
          "is_executing": false,
          "name": "#%%\n"
        },
        "id": "sMGIp2zH4eJT",
        "colab_type": "code",
        "colab": {}
      },
      "source": [
        "print(re.sub(r'^', r'* ', ip_lines, flags=re.M))\n"
      ],
      "execution_count": null,
      "outputs": []
    },
    {
      "cell_type": "code",
      "metadata": {
        "jupyter": {
          "outputs_hidden": false
        },
        "pycharm": {
          "is_executing": false,
          "name": "#%%\n"
        },
        "id": "x4H4AfJk4eJV",
        "colab_type": "code",
        "colab": {}
      },
      "source": [
        "# replace 'par' only at start of word\n",
        "re.sub(r'\\bpar', r'X', 'par spar apparent spare part')\n",
        "\n"
      ],
      "execution_count": null,
      "outputs": []
    },
    {
      "cell_type": "code",
      "metadata": {
        "jupyter": {
          "outputs_hidden": false
        },
        "pycharm": {
          "is_executing": false,
          "name": "#%%\n"
        },
        "id": "-eJqY3da4eJd",
        "colab_type": "code",
        "colab": {}
      },
      "source": [
        "# same as: r'part|parrot|parent'\n",
        "re.sub(r'par(en|ro)?t', r'X', 'par part parrot parent')\n"
      ],
      "execution_count": null,
      "outputs": []
    },
    {
      "cell_type": "code",
      "metadata": {
        "jupyter": {
          "outputs_hidden": false
        },
        "pycharm": {
          "is_executing": false,
          "name": "#%%\n"
        },
        "id": "GNmxHsbm4eJg",
        "colab_type": "code",
        "colab": {}
      },
      "source": [
        "# remove first two columns where : is delimiter\n",
        "re.sub(r'\\A([^:]+:){2}', r'', ' foo:123:bar:baz', count=1)"
      ],
      "execution_count": null,
      "outputs": []
    },
    {
      "cell_type": "code",
      "metadata": {
        "jupyter": {
          "outputs_hidden": false
        },
        "pycharm": {
          "is_executing": false,
          "name": "#%%\n"
        },
        "id": "dz3vM5kW4eJl",
        "colab_type": "code",
        "colab": {}
      },
      "source": [
        "# backreferencing in replacement section\n",
        "# remove any number of consecutive duplicate words separated by space\n",
        "re.sub(r'\\b(\\w+)(\\s+\\1)+\\b', r'\\1', 'aa a aa a a 42 f_1 f_1 f_13.14')"
      ],
      "execution_count": null,
      "outputs": []
    },
    {
      "cell_type": "code",
      "metadata": {
        "jupyter": {
          "outputs_hidden": false
        },
        "pycharm": {
          "is_executing": false,
          "name": "#%%\n"
        },
        "id": "sXa_hF3B4eJn",
        "colab_type": "code",
        "colab": {}
      },
      "source": [
        "# add something around the matched strings\n",
        "re.sub(r'(\\d+)', r'(\\g<0>0)', '52 apples and 31 mangoes')\n"
      ],
      "execution_count": null,
      "outputs": []
    },
    {
      "cell_type": "code",
      "metadata": {
        "jupyter": {
          "outputs_hidden": false
        },
        "pycharm": {
          "is_executing": false,
          "name": "#%%\n"
        },
        "id": "HexdNqoj4eJr",
        "colab_type": "code",
        "colab": {}
      },
      "source": [
        "# swap words that are separated by a comma\n",
        "re.sub(r'(\\w+),(\\w+)', r'\\2,\\1', 'good,bad 42,24')\n"
      ],
      "execution_count": null,
      "outputs": []
    },
    {
      "cell_type": "markdown",
      "metadata": {
        "id": "Hr6KC6j0_cgZ",
        "colab_type": "text"
      },
      "source": [
        "### **5. Quick test**\n",
        "Cho chuỗi sau:\n",
        "``Sau khi dịch covid-19 bùng phát giá dầu giảm 10.5%, giá điện giảm 15%, giá khẩu trang tăng 300%``\n",
        "Trích xuất phần trăm tăng và giảm"
      ]
    },
    {
      "cell_type": "code",
      "metadata": {
        "id": "Lqktp_k2_pzX",
        "colab_type": "code",
        "colab": {}
      },
      "source": [
        "text = u'Sau khi dịch covid-19 bùng phát giá dầu giảm 10.5%, giá điện giảm 15%, giá khẩu trang tăng 300%'"
      ],
      "execution_count": null,
      "outputs": []
    },
    {
      "cell_type": "code",
      "metadata": {
        "id": "_cDwlspECjmF",
        "colab_type": "code",
        "colab": {}
      },
      "source": [
        "# liệt kê danh sách phần trăm giảm\n"
      ],
      "execution_count": null,
      "outputs": []
    },
    {
      "cell_type": "code",
      "metadata": {
        "id": "SdV2-PowCytd",
        "colab_type": "code",
        "colab": {}
      },
      "source": [
        "# liệt kê danh sách phần trăm tăng\n"
      ],
      "execution_count": null,
      "outputs": []
    },
    {
      "cell_type": "markdown",
      "metadata": {
        "id": "pD2-du2Oc-Or",
        "colab_type": "text"
      },
      "source": [
        ""
      ]
    },
    {
      "cell_type": "code",
      "metadata": {
        "id": "Z75PKXk3cuPp",
        "colab_type": "code",
        "colab": {}
      },
      "source": [
        "tt = u'tăng từ 10%. tăng 10.5%. giảm còn 10%'\n"
      ],
      "execution_count": null,
      "outputs": []
    },
    {
      "cell_type": "code",
      "metadata": {
        "id": "dgcRLzSic4Gk",
        "colab_type": "code",
        "colab": {}
      },
      "source": [
        ""
      ],
      "execution_count": null,
      "outputs": []
    }
  ]
}