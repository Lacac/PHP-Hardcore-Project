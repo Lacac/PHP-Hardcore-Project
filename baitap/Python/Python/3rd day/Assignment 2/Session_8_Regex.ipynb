{
 "cells": [
  {
   "cell_type": "markdown",
   "metadata": {
    "colab_type": "text",
    "id": "Hr6KC6j0_cgZ"
   },
   "source": [
    "### **5. Quick test**\n",
    "Cho chuỗi sau:\n",
    "``Sau khi dịch covid-19 bùng phát giá dầu giảm 10.5%, giá điện giảm 15%, giá khẩu trang tăng 300%``\n",
    "Trích xuất phần trăm tăng và giảm"
   ]
  },
  {
   "cell_type": "code",
   "execution_count": null,
   "metadata": {
    "colab": {},
    "colab_type": "code",
    "id": "Lqktp_k2_pzX"
   },
   "outputs": [],
   "source": [
    "text = u'Sau khi dịch covid-19 bùng phát giá dầu giảm 10.5%, giá điện giảm 15%, giá khẩu trang tăng 300%'"
   ]
  },
  {
   "cell_type": "code",
   "execution_count": null,
   "metadata": {
    "colab": {},
    "colab_type": "code",
    "id": "_cDwlspECjmF"
   },
   "outputs": [],
   "source": [
    "# liệt kê danh sách phần trăm giảm\n"
   ]
  },
  {
   "cell_type": "code",
   "execution_count": null,
   "metadata": {
    "colab": {},
    "colab_type": "code",
    "id": "SdV2-PowCytd"
   },
   "outputs": [],
   "source": [
    "# liệt kê danh sách phần trăm tăng\n"
   ]
  },
  {
   "cell_type": "markdown",
   "metadata": {
    "colab_type": "text",
    "id": "pD2-du2Oc-Or"
   },
   "source": []
  },
  {
   "cell_type": "code",
   "execution_count": null,
   "metadata": {
    "colab": {},
    "colab_type": "code",
    "id": "Z75PKXk3cuPp"
   },
   "outputs": [],
   "source": [
    "tt = u'tăng từ 10%. tăng 10.5%. giảm còn 10%'\n"
   ]
  },
  {
   "cell_type": "code",
   "execution_count": null,
   "metadata": {
    "colab": {},
    "colab_type": "code",
    "id": "dgcRLzSic4Gk"
   },
   "outputs": [],
   "source": []
  }
 ],
 "metadata": {
  "colab": {
   "collapsed_sections": [
    "kMKwSJI-4eJE"
   ],
   "name": "regex_cheatsheet.ipynb",
   "provenance": [],
   "toc_visible": true
  },
  "kernelspec": {
   "display_name": "Python 3",
   "language": "python",
   "name": "python3"
  },
  "language_info": {
   "codemirror_mode": {
    "name": "ipython",
    "version": 3
   },
   "file_extension": ".py",
   "mimetype": "text/x-python",
   "name": "python",
   "nbconvert_exporter": "python",
   "pygments_lexer": "ipython3",
   "version": "3.6.4"
  },
  "pycharm": {
   "stem_cell": {
    "cell_type": "raw",
    "metadata": {
     "collapsed": false
    },
    "source": []
   }
  }
 },
 "nbformat": 4,
 "nbformat_minor": 2
}
