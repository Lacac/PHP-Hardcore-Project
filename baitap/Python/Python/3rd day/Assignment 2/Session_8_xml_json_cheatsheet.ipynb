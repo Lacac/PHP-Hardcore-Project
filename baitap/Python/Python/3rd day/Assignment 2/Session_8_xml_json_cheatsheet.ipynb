{
 "cells": [
  {
   "cell_type": "markdown",
   "metadata": {
    "colab_type": "text",
    "id": "x0O_paWHVcIg"
   },
   "source": [
    "Import module\n"
   ]
  },
  {
   "cell_type": "code",
   "execution_count": 4,
   "metadata": {
    "colab": {},
    "colab_type": "code",
    "id": "TQo6hNXFVf9E"
   },
   "outputs": [],
   "source": [
    "import xml.etree.ElementTree as ET\n",
    "import re"
   ]
  },
  {
   "cell_type": "code",
   "execution_count": 5,
   "metadata": {
    "colab": {},
    "colab_type": "code",
    "id": "bP7r2wfQVkA6"
   },
   "outputs": [],
   "source": [
    "xml_str = \"\"\"<?xml version=\"1.0\"?>\n",
    "<data>\n",
    "    <country name=\"Liechtenstein\">\n",
    "        <rank>1</rank>\n",
    "        <year>2008</year>\n",
    "        <gdppc>141100</gdppc>\n",
    "        <neighbor name=\"Austria\" direction=\"E\"/>\n",
    "        <neighbor name=\"Switzerland\" direction=\"W\"/>\n",
    "    </country>\n",
    "    <country name=\"Singapore\">\n",
    "        <rank>4</rank>\n",
    "        <year>2011</year>\n",
    "        <gdppc>59900</gdppc>\n",
    "        <neighbor name=\"Malaysia\" direction=\"N\"/>\n",
    "    </country>\n",
    "    <country name=\"Panama\">\n",
    "        <rank>68</rank>\n",
    "        <year>2011</year>\n",
    "        <gdppc>13600</gdppc>\n",
    "        <neighbor name=\"Costa Rica\" direction=\"W\"/>\n",
    "        <neighbor name=\"Colombia\" direction=\"E\"/>\n",
    "    </country>\n",
    "</data>\"\"\""
   ]
  },
  {
   "cell_type": "markdown",
   "metadata": {
    "colab_type": "text",
    "id": "TPXZtPHXglLH"
   },
   "source": [
    "```fromstring()``` parses XML from a string directly into an ``Element``, which is the root element of the parsed tree. Other parsing functions may create an ``ElementTree``."
   ]
  },
  {
   "cell_type": "code",
   "execution_count": 6,
   "metadata": {
    "colab": {},
    "colab_type": "code",
    "id": "d_XwucTnVpMc"
   },
   "outputs": [
    {
     "ename": "FileNotFoundError",
     "evalue": "[Errno 2] No such file or directory: 'sample.txt'",
     "output_type": "error",
     "traceback": [
      "\u001b[1;31m---------------------------------------------------------------------------\u001b[0m",
      "\u001b[1;31mFileNotFoundError\u001b[0m                         Traceback (most recent call last)",
      "\u001b[1;32mf:\\Xampp\\htdocs\\SAS_material\\Python\\3rd day\\Session_8_xml_json_cheatsheet.ipynb Cell 5'\u001b[0m in \u001b[0;36m<cell line: 1>\u001b[1;34m()\u001b[0m\n\u001b[1;32m----> <a href='vscode-notebook-cell:/f%3A/Xampp/htdocs/SAS_material/Python/3rd%20day/Session_8_xml_json_cheatsheet.ipynb#ch0000004?line=0'>1</a>\u001b[0m tree \u001b[39m=\u001b[39m ET\u001b[39m.\u001b[39;49mparse(\u001b[39m'\u001b[39;49m\u001b[39msample.txt\u001b[39;49m\u001b[39m'\u001b[39;49m)\n\u001b[0;32m      <a href='vscode-notebook-cell:/f%3A/Xampp/htdocs/SAS_material/Python/3rd%20day/Session_8_xml_json_cheatsheet.ipynb#ch0000004?line=1'>2</a>\u001b[0m root \u001b[39m=\u001b[39m tree\u001b[39m.\u001b[39mgetroot()\n",
      "File \u001b[1;32mC:\\Program Files\\WindowsApps\\PythonSoftwareFoundation.Python.3.8_3.8.2800.0_x64__qbz5n2kfra8p0\\lib\\xml\\etree\\ElementTree.py:1202\u001b[0m, in \u001b[0;36mparse\u001b[1;34m(source, parser)\u001b[0m\n\u001b[0;32m   <a href='file:///c%3A/Program%20Files/WindowsApps/PythonSoftwareFoundation.Python.3.8_3.8.2800.0_x64__qbz5n2kfra8p0/lib/xml/etree/ElementTree.py?line=1192'>1193</a>\u001b[0m \u001b[39m\"\"\"Parse XML document into element tree.\u001b[39;00m\n\u001b[0;32m   <a href='file:///c%3A/Program%20Files/WindowsApps/PythonSoftwareFoundation.Python.3.8_3.8.2800.0_x64__qbz5n2kfra8p0/lib/xml/etree/ElementTree.py?line=1193'>1194</a>\u001b[0m \n\u001b[0;32m   <a href='file:///c%3A/Program%20Files/WindowsApps/PythonSoftwareFoundation.Python.3.8_3.8.2800.0_x64__qbz5n2kfra8p0/lib/xml/etree/ElementTree.py?line=1194'>1195</a>\u001b[0m \u001b[39m*source* is a filename or file object containing XML data,\u001b[39;00m\n\u001b[1;32m   (...)\u001b[0m\n\u001b[0;32m   <a href='file:///c%3A/Program%20Files/WindowsApps/PythonSoftwareFoundation.Python.3.8_3.8.2800.0_x64__qbz5n2kfra8p0/lib/xml/etree/ElementTree.py?line=1198'>1199</a>\u001b[0m \n\u001b[0;32m   <a href='file:///c%3A/Program%20Files/WindowsApps/PythonSoftwareFoundation.Python.3.8_3.8.2800.0_x64__qbz5n2kfra8p0/lib/xml/etree/ElementTree.py?line=1199'>1200</a>\u001b[0m \u001b[39m\"\"\"\u001b[39;00m\n\u001b[0;32m   <a href='file:///c%3A/Program%20Files/WindowsApps/PythonSoftwareFoundation.Python.3.8_3.8.2800.0_x64__qbz5n2kfra8p0/lib/xml/etree/ElementTree.py?line=1200'>1201</a>\u001b[0m tree \u001b[39m=\u001b[39m ElementTree()\n\u001b[1;32m-> <a href='file:///c%3A/Program%20Files/WindowsApps/PythonSoftwareFoundation.Python.3.8_3.8.2800.0_x64__qbz5n2kfra8p0/lib/xml/etree/ElementTree.py?line=1201'>1202</a>\u001b[0m tree\u001b[39m.\u001b[39;49mparse(source, parser)\n\u001b[0;32m   <a href='file:///c%3A/Program%20Files/WindowsApps/PythonSoftwareFoundation.Python.3.8_3.8.2800.0_x64__qbz5n2kfra8p0/lib/xml/etree/ElementTree.py?line=1202'>1203</a>\u001b[0m \u001b[39mreturn\u001b[39;00m tree\n",
      "File \u001b[1;32mC:\\Program Files\\WindowsApps\\PythonSoftwareFoundation.Python.3.8_3.8.2800.0_x64__qbz5n2kfra8p0\\lib\\xml\\etree\\ElementTree.py:584\u001b[0m, in \u001b[0;36mElementTree.parse\u001b[1;34m(self, source, parser)\u001b[0m\n\u001b[0;32m    <a href='file:///c%3A/Program%20Files/WindowsApps/PythonSoftwareFoundation.Python.3.8_3.8.2800.0_x64__qbz5n2kfra8p0/lib/xml/etree/ElementTree.py?line=581'>582</a>\u001b[0m close_source \u001b[39m=\u001b[39m \u001b[39mFalse\u001b[39;00m\n\u001b[0;32m    <a href='file:///c%3A/Program%20Files/WindowsApps/PythonSoftwareFoundation.Python.3.8_3.8.2800.0_x64__qbz5n2kfra8p0/lib/xml/etree/ElementTree.py?line=582'>583</a>\u001b[0m \u001b[39mif\u001b[39;00m \u001b[39mnot\u001b[39;00m \u001b[39mhasattr\u001b[39m(source, \u001b[39m\"\u001b[39m\u001b[39mread\u001b[39m\u001b[39m\"\u001b[39m):\n\u001b[1;32m--> <a href='file:///c%3A/Program%20Files/WindowsApps/PythonSoftwareFoundation.Python.3.8_3.8.2800.0_x64__qbz5n2kfra8p0/lib/xml/etree/ElementTree.py?line=583'>584</a>\u001b[0m     source \u001b[39m=\u001b[39m \u001b[39mopen\u001b[39;49m(source, \u001b[39m\"\u001b[39;49m\u001b[39mrb\u001b[39;49m\u001b[39m\"\u001b[39;49m)\n\u001b[0;32m    <a href='file:///c%3A/Program%20Files/WindowsApps/PythonSoftwareFoundation.Python.3.8_3.8.2800.0_x64__qbz5n2kfra8p0/lib/xml/etree/ElementTree.py?line=584'>585</a>\u001b[0m     close_source \u001b[39m=\u001b[39m \u001b[39mTrue\u001b[39;00m\n\u001b[0;32m    <a href='file:///c%3A/Program%20Files/WindowsApps/PythonSoftwareFoundation.Python.3.8_3.8.2800.0_x64__qbz5n2kfra8p0/lib/xml/etree/ElementTree.py?line=585'>586</a>\u001b[0m \u001b[39mtry\u001b[39;00m:\n",
      "\u001b[1;31mFileNotFoundError\u001b[0m: [Errno 2] No such file or directory: 'sample.txt'"
     ]
    }
   ],
   "source": [
    "tree = ET.parse('sample.txt')\n",
    "root = tree.getroot()\n",
    "# root = ET.fromstring(xml_str) # return Element object\n"
   ]
  },
  {
   "cell_type": "markdown",
   "metadata": {
    "colab_type": "text",
    "id": "RRTZMi3iWB6w"
   },
   "source": [
    "You can read from file via ```root = ET.parse('sample.xml')```"
   ]
  },
  {
   "cell_type": "markdown",
   "metadata": {
    "colab_type": "text",
    "id": "C-vUwGbxwI54"
   },
   "source": [
    "Root has a tag and a dictionary of attributes"
   ]
  },
  {
   "cell_type": "code",
   "execution_count": null,
   "metadata": {
    "colab": {
     "base_uri": "https://localhost:8080/",
     "height": 34
    },
    "colab_type": "code",
    "id": "xnduUOvBVxQn",
    "outputId": "8be0d4b0-4b51-4898-e8c0-6c5d47985a33"
   },
   "outputs": [
    {
     "data": {
      "text/plain": [
       "'data'"
      ]
     },
     "execution_count": 27,
     "metadata": {
      "tags": []
     },
     "output_type": "execute_result"
    }
   ],
   "source": [
    "root.tag"
   ]
  },
  {
   "cell_type": "code",
   "execution_count": null,
   "metadata": {
    "colab": {
     "base_uri": "https://localhost:8080/",
     "height": 34
    },
    "colab_type": "code",
    "id": "JBzXKO2pv_FX",
    "outputId": "a95d8923-8bb0-4e2c-b91d-3cc1737533e5"
   },
   "outputs": [
    {
     "data": {
      "text/plain": [
       "{}"
      ]
     },
     "execution_count": 28,
     "metadata": {
      "tags": []
     },
     "output_type": "execute_result"
    }
   ],
   "source": [
    "root.attrib"
   ]
  },
  {
   "cell_type": "markdown",
   "metadata": {
    "colab_type": "text",
    "id": "nopR_L5ywYWZ"
   },
   "source": [
    "Show all children nodes"
   ]
  },
  {
   "cell_type": "code",
   "execution_count": null,
   "metadata": {
    "colab": {
     "base_uri": "https://localhost:8080/",
     "height": 119
    },
    "colab_type": "code",
    "id": "l9E-TE6jwBjl",
    "outputId": "91d8bd65-98b1-4d7d-8518-3b88531488d6"
   },
   "outputs": [
    {
     "name": "stdout",
     "output_type": "stream",
     "text": [
      "country\n",
      "{'name': 'Liechtenstein'}\n",
      "country\n",
      "{'name': 'Singapore'}\n",
      "country\n",
      "{'name': 'Panama'}\n"
     ]
    }
   ],
   "source": [
    "for child in root:\n",
    "  print(child.tag)\n",
    "  print(child.attrib)"
   ]
  },
  {
   "cell_type": "code",
   "execution_count": null,
   "metadata": {
    "colab": {
     "base_uri": "https://localhost:8080/",
     "height": 34
    },
    "colab_type": "code",
    "id": "j0oFghEjwo1V",
    "outputId": "5a726466-76f2-4766-9f70-7ebd90a116fa"
   },
   "outputs": [
    {
     "data": {
      "text/plain": [
       "'2008'"
      ]
     },
     "execution_count": 30,
     "metadata": {
      "tags": []
     },
     "output_type": "execute_result"
    }
   ],
   "source": [
    "root[0][1].text"
   ]
  },
  {
   "cell_type": "markdown",
   "metadata": {
    "colab_type": "text",
    "id": "D4py41etxhT6"
   },
   "source": [
    "Finding elements"
   ]
  },
  {
   "cell_type": "code",
   "execution_count": null,
   "metadata": {
    "colab": {
     "base_uri": "https://localhost:8080/",
     "height": 102
    },
    "colab_type": "code",
    "id": "PFqNJFq3wvV9",
    "outputId": "a3241703-d8e6-48a5-96a3-df318fe1bafa"
   },
   "outputs": [
    {
     "name": "stdout",
     "output_type": "stream",
     "text": [
      "{'name': 'Austria', 'direction': 'E'}\n",
      "{'name': 'Switzerland', 'direction': 'W'}\n",
      "{'name': 'Malaysia', 'direction': 'N'}\n",
      "{'name': 'Costa Rica', 'direction': 'W'}\n",
      "{'name': 'Colombia', 'direction': 'E'}\n"
     ]
    }
   ],
   "source": [
    "for neighbor in root.iter('neighbor'):\n",
    "  print(neighbor.attrib)"
   ]
  },
  {
   "cell_type": "code",
   "execution_count": null,
   "metadata": {
    "colab": {
     "base_uri": "https://localhost:8080/",
     "height": 119
    },
    "colab_type": "code",
    "id": "SwwuNx_UxvZt",
    "outputId": "9129a803-6e6f-4103-81b8-a15943e7e5ad"
   },
   "outputs": [
    {
     "name": "stdout",
     "output_type": "stream",
     "text": [
      "Liechtenstein 1\n",
      "<class 'xml.etree.ElementTree.Element'>\n",
      "Singapore 4\n",
      "<class 'xml.etree.ElementTree.Element'>\n",
      "Panama 68\n",
      "<class 'xml.etree.ElementTree.Element'>\n"
     ]
    }
   ],
   "source": [
    "for country in root.findall('country'):\n",
    "  rank = country.find('rank').text\n",
    "  name = country.get('name')\n",
    "  print(name, rank)\n",
    "  print(type(country))"
   ]
  },
  {
   "cell_type": "markdown",
   "metadata": {
    "colab_type": "text",
    "id": "36WEF6cny20Q"
   },
   "source": [
    "Modifying an XML file"
   ]
  },
  {
   "cell_type": "code",
   "execution_count": null,
   "metadata": {
    "colab": {},
    "colab_type": "code",
    "id": "bUaYGMCHyqXk"
   },
   "outputs": [],
   "source": [
    "for rank in tree.iter('rank'):\n",
    "  new_rank = int(rank.text)+1\n",
    "  rank.text = str(new_rank)\n",
    "  rank.set('updated', 'yes')"
   ]
  },
  {
   "cell_type": "code",
   "execution_count": null,
   "metadata": {
    "colab": {},
    "colab_type": "code",
    "id": "BLMu9Z6KzzfE"
   },
   "outputs": [],
   "source": [
    "tree.write('output.txt')"
   ]
  },
  {
   "cell_type": "code",
   "execution_count": null,
   "metadata": {
    "colab": {},
    "colab_type": "code",
    "id": "Zu9VPtxuz9Ez"
   },
   "outputs": [],
   "source": [
    "for country in root.findall('country'):\n",
    "  rank = int(country.find('rank').text)\n",
    "  if rank > 50:\n",
    "      root.remove(country)"
   ]
  },
  {
   "cell_type": "code",
   "execution_count": null,
   "metadata": {
    "colab": {
     "base_uri": "https://localhost:8080/",
     "height": 289
    },
    "colab_type": "code",
    "id": "gmfx3MnHs9IO",
    "outputId": "385d9c23-53e5-4d62-f6b5-36d1cc3bb1bb"
   },
   "outputs": [
    {
     "name": "stdout",
     "output_type": "stream",
     "text": [
      "<?xml version='1.0' encoding='utf8'?>\n",
      "<data>\n",
      "    <country name=\"Liechtenstein\">\n",
      "        <rank updated=\"yes\">2</rank>\n",
      "        <year>2008</year>\n",
      "        <gdppc>141100</gdppc>\n",
      "        <neighbor direction=\"E\" name=\"Austria\" />\n",
      "        <neighbor direction=\"W\" name=\"Switzerland\" />\n",
      "    </country>\n",
      "    <country name=\"Singapore\">\n",
      "        <rank updated=\"yes\">5</rank>\n",
      "        <year>2011</year>\n",
      "        <gdppc>59900</gdppc>\n",
      "        <neighbor direction=\"N\" name=\"Malaysia\" />\n",
      "    </country>\n",
      "    </data>\n"
     ]
    }
   ],
   "source": [
    "print(ET.tostring(root, encoding='utf8').decode('utf8'))\n"
   ]
  },
  {
   "cell_type": "markdown",
   "metadata": {
    "colab_type": "text",
    "id": "rJ23vgLupT6n"
   },
   "source": [
    "**Building XML documents**"
   ]
  },
  {
   "cell_type": "code",
   "execution_count": null,
   "metadata": {
    "colab": {
     "base_uri": "https://localhost:8080/",
     "height": 51
    },
    "colab_type": "code",
    "id": "irMd5olipcvZ",
    "outputId": "2c0a9ab2-ac84-4bcd-ca9f-862f7e8166b1"
   },
   "outputs": [
    {
     "name": "stdout",
     "output_type": "stream",
     "text": [
      "<?xml version='1.0' encoding='utf8'?>\n",
      "<a><b>fpt1</b><c><d>fpt2</d></c></a>\n"
     ]
    }
   ],
   "source": [
    "a = ET.Element('a')\n",
    "b = ET.SubElement(a, 'b')\n",
    "b.text = 'fpt1'\n",
    "c = ET.SubElement(a, 'c')\n",
    "d = ET.SubElement(c, 'd')\n",
    "d.text = 'fpt2'\n",
    "print(ET.tostring(a, encoding='utf8').decode('utf8'))"
   ]
  },
  {
   "cell_type": "markdown",
   "metadata": {
    "colab_type": "text",
    "id": "rEa_pNWIqp21"
   },
   "source": [
    "**XPath support**"
   ]
  },
  {
   "cell_type": "code",
   "execution_count": null,
   "metadata": {
    "colab": {
     "base_uri": "https://localhost:8080/",
     "height": 34
    },
    "colab_type": "code",
    "id": "3TIuB7DIqsHA",
    "outputId": "c9f570fe-d8eb-4f0a-afa0-7e292c7b6d8a"
   },
   "outputs": [
    {
     "name": "stdout",
     "output_type": "stream",
     "text": [
      "{}\n"
     ]
    }
   ],
   "source": [
    "import xml.etree.ElementTree as ET\n",
    "\n",
    "root = ET.fromstring(xml_str)\n",
    "\n",
    "# Top-level elements\n",
    "elememts = root.findall(\".\")\n",
    "for el in elememts:\n",
    "  print(el.attrib)\n"
   ]
  },
  {
   "cell_type": "code",
   "execution_count": null,
   "metadata": {
    "colab": {
     "base_uri": "https://localhost:8080/",
     "height": 68
    },
    "colab_type": "code",
    "id": "bPGjVuZWqxQQ",
    "outputId": "3ecbb30a-c16f-4e29-8245-4056bd0de088"
   },
   "outputs": [
    {
     "name": "stdout",
     "output_type": "stream",
     "text": [
      "{'name': 'Liechtenstein'} country\n",
      "{'name': 'Singapore'} country\n",
      "{'name': 'Panama'} country\n"
     ]
    }
   ],
   "source": [
    "# All 'neighbor' grand-children of 'country' children of the top-level\n",
    "# elements\n",
    "elememts = root.findall(\"country\")\n",
    "for el in elememts:\n",
    "  print(el.attrib, el.tag)\n"
   ]
  },
  {
   "cell_type": "code",
   "execution_count": null,
   "metadata": {
    "colab": {
     "base_uri": "https://localhost:8080/",
     "height": 34
    },
    "colab_type": "code",
    "id": "fw4gMOUqrEHN",
    "outputId": "cc9a58aa-0791-4885-d94d-4b7e1e8c7359"
   },
   "outputs": [
    {
     "name": "stdout",
     "output_type": "stream",
     "text": [
      "{'name': 'Singapore'}\n"
     ]
    }
   ],
   "source": [
    "# Nodes with name='Singapore' that have a 'year' child\n",
    "elememts = root.findall(\".//year/..[@name='Singapore']\")\n",
    "for el in elememts:\n",
    "  print(el.attrib)\n"
   ]
  },
  {
   "cell_type": "code",
   "execution_count": null,
   "metadata": {
    "colab": {
     "base_uri": "https://localhost:8080/",
     "height": 34
    },
    "colab_type": "code",
    "id": "6d0eilFGsQMK",
    "outputId": "c336f6c8-49c2-49ab-b303-e195ab0ef394"
   },
   "outputs": [
    {
     "name": "stdout",
     "output_type": "stream",
     "text": [
      "2011\n"
     ]
    }
   ],
   "source": [
    "# 'year' nodes that are children of nodes with name='Singapore'\n",
    "elememts = root.findall(\".//*[@name='Singapore']/year\")\n",
    "for el in elememts:\n",
    "  print(el.text)\n"
   ]
  },
  {
   "cell_type": "code",
   "execution_count": null,
   "metadata": {
    "colab": {
     "base_uri": "https://localhost:8080/",
     "height": 51
    },
    "colab_type": "code",
    "id": "6TMq9Xd2sVhp",
    "outputId": "78859156-5ffd-42aa-e44a-cb97bc0fe951"
   },
   "outputs": [
    {
     "name": "stdout",
     "output_type": "stream",
     "text": [
      "{'name': 'Switzerland', 'direction': 'W'}\n",
      "{'name': 'Colombia', 'direction': 'E'}\n"
     ]
    }
   ],
   "source": [
    "# All 'neighbor' nodes that are the second child of their parent\n",
    "elememts = root.findall(\".//neighbor[2]\")\n",
    "for el in elememts:\n",
    "  print(el.attrib)"
   ]
  },
  {
   "cell_type": "markdown",
   "metadata": {
    "colab_type": "text",
    "id": "gEV3zl418KcB"
   },
   "source": [
    "**Python Json quick start**"
   ]
  },
  {
   "cell_type": "code",
   "execution_count": null,
   "metadata": {
    "colab": {},
    "colab_type": "code",
    "id": "tvQM8WhG8Quc"
   },
   "outputs": [],
   "source": [
    "import json"
   ]
  },
  {
   "cell_type": "markdown",
   "metadata": {
    "colab_type": "text",
    "id": "096ChxDv8-dP"
   },
   "source": [
    "Python JSON to dict"
   ]
  },
  {
   "cell_type": "code",
   "execution_count": null,
   "metadata": {
    "colab": {
     "base_uri": "https://localhost:8080/",
     "height": 51
    },
    "colab_type": "code",
    "id": "pxUCu2sC84yF",
    "outputId": "5556983f-1bdd-4b5b-b6bf-c2050b5884e1"
   },
   "outputs": [
    {
     "name": "stdout",
     "output_type": "stream",
     "text": [
      "{'name': 'Bob', 'languages': ['English', 'Fench']}\n",
      "['English', 'Fench']\n"
     ]
    }
   ],
   "source": [
    "person = '{\"name\": \"Bob\", \"languages\": [\"English\", \"Fench\"]}'\n",
    "person_dict = json.loads(person)\n",
    "# Output: {'name': 'Bob', 'languages': ['English', 'Fench']}\n",
    "print( person_dict)\n",
    "\n",
    "# Output: ['English', 'French']\n",
    "print(person_dict['languages'])"
   ]
  },
  {
   "cell_type": "markdown",
   "metadata": {
    "colab_type": "text",
    "id": "NO3hGmfH9Ni8"
   },
   "source": [
    "Python read JSON file"
   ]
  },
  {
   "cell_type": "code",
   "execution_count": null,
   "metadata": {
    "colab": {},
    "colab_type": "code",
    "id": "7rkckQlF9ReG"
   },
   "outputs": [],
   "source": [
    "data_jon = \"\"\"{\"name\": \"Bob\", \n",
    "\"languages\": [\"English\", \"Fench\"]\n",
    "}\"\"\""
   ]
  },
  {
   "cell_type": "code",
   "execution_count": null,
   "metadata": {
    "colab": {
     "base_uri": "https://localhost:8080/",
     "height": 231
    },
    "colab_type": "code",
    "id": "WRLybpXk9YxX",
    "outputId": "29936318-ed15-4e34-b0fc-8aa82611b0da"
   },
   "outputs": [
    {
     "ename": "FileNotFoundError",
     "evalue": "ignored",
     "output_type": "error",
     "traceback": [
      "\u001b[0;31m---------------------------------------------------------------------------\u001b[0m",
      "\u001b[0;31mFileNotFoundError\u001b[0m                         Traceback (most recent call last)",
      "\u001b[0;32m<ipython-input-23-c2505d541c65>\u001b[0m in \u001b[0;36m<module>\u001b[0;34m()\u001b[0m\n\u001b[0;32m----> 1\u001b[0;31m \u001b[0;32mwith\u001b[0m \u001b[0mopen\u001b[0m\u001b[0;34m(\u001b[0m\u001b[0;34m'person.txt'\u001b[0m\u001b[0;34m)\u001b[0m \u001b[0;32mas\u001b[0m \u001b[0mf\u001b[0m\u001b[0;34m:\u001b[0m\u001b[0;34m\u001b[0m\u001b[0;34m\u001b[0m\u001b[0m\n\u001b[0m\u001b[1;32m      2\u001b[0m   \u001b[0mdata\u001b[0m \u001b[0;34m=\u001b[0m \u001b[0mjson\u001b[0m\u001b[0;34m.\u001b[0m\u001b[0mload\u001b[0m\u001b[0;34m(\u001b[0m\u001b[0mf\u001b[0m\u001b[0;34m)\u001b[0m\u001b[0;34m\u001b[0m\u001b[0;34m\u001b[0m\u001b[0m\n\u001b[1;32m      3\u001b[0m \u001b[0;34m\u001b[0m\u001b[0m\n\u001b[1;32m      4\u001b[0m \u001b[0;31m# Output: {'name': 'Bob', 'languages': ['English', 'Fench']}\u001b[0m\u001b[0;34m\u001b[0m\u001b[0;34m\u001b[0m\u001b[0;34m\u001b[0m\u001b[0m\n\u001b[1;32m      5\u001b[0m \u001b[0mprint\u001b[0m\u001b[0;34m(\u001b[0m\u001b[0mdata\u001b[0m\u001b[0;34m)\u001b[0m\u001b[0;34m\u001b[0m\u001b[0;34m\u001b[0m\u001b[0m\n",
      "\u001b[0;31mFileNotFoundError\u001b[0m: [Errno 2] No such file or directory: 'person.txt'"
     ]
    }
   ],
   "source": [
    "with open('person.txt') as f:\n",
    "  data = json.load(f)\n",
    "\n",
    "# Output: {'name': 'Bob', 'languages': ['English', 'Fench']}\n",
    "print(data)"
   ]
  },
  {
   "cell_type": "markdown",
   "metadata": {
    "colab_type": "text",
    "id": "ZSVM5aSC9yDN"
   },
   "source": [
    "Convert dict to JSON"
   ]
  },
  {
   "cell_type": "code",
   "execution_count": null,
   "metadata": {
    "colab": {},
    "colab_type": "code",
    "id": "vJaQmevE91VR"
   },
   "outputs": [],
   "source": [
    "person_dict = {'name': 'Bob',\n",
    "'age': 12,\n",
    "'children': None\n",
    "}\n",
    "person_json = json.dumps(person_dict)\n",
    "\n",
    "# Output: {\"name\": \"Bob\", \"age\": 12, \"children\": null}\n",
    "print(person_json)"
   ]
  },
  {
   "cell_type": "markdown",
   "metadata": {
    "colab_type": "text",
    "id": "vlMTnXiF98FX"
   },
   "source": [
    "Writing JSON to a file"
   ]
  },
  {
   "cell_type": "code",
   "execution_count": null,
   "metadata": {
    "colab": {},
    "colab_type": "code",
    "id": "Nj3wQtuH9_QW"
   },
   "outputs": [],
   "source": [
    "person_dict = {\"name\": \"Bob\",\n",
    "\"languages\": [\"English\", \"Fench\"],\n",
    "\"married\": True,\n",
    "\"age\": 32\n",
    "}\n",
    "\n",
    "with open('person_2.txt', 'w') as json_file:\n",
    "  json.dump(person_dict, json_file)"
   ]
  },
  {
   "cell_type": "markdown",
   "metadata": {
    "colab_type": "text",
    "id": "WPv0N2ON-JJB"
   },
   "source": [
    "Python pretty print JSON"
   ]
  },
  {
   "cell_type": "code",
   "execution_count": null,
   "metadata": {
    "colab": {},
    "colab_type": "code",
    "id": "T9THcZwI-Lfv"
   },
   "outputs": [],
   "source": [
    "person_string = '{\"name\": \"Bob\", \"languages\": \"English\", \"numbers\": [2, 1.6, null]}'\n",
    "\n",
    "# Getting dictionary\n",
    "person_dict = json.loads(person_string)\n",
    "\n",
    "# Pretty Printing JSON string back\n",
    "print(json.dumps(person_dict, indent = 4, sort_keys=True))"
   ]
  },
  {
   "cell_type": "markdown",
   "metadata": {
    "colab_type": "text",
    "id": "2uDoZOA3uPqX"
   },
   "source": [
    "**Quick test**"
   ]
  },
  {
   "cell_type": "code",
   "execution_count": null,
   "metadata": {
    "colab": {},
    "colab_type": "code",
    "id": "JwkFKwUvzE23"
   },
   "outputs": [],
   "source": [
    "import xml.etree.ElementTree as ET\n",
    "import json"
   ]
  },
  {
   "cell_type": "code",
   "execution_count": null,
   "metadata": {
    "colab": {},
    "colab_type": "code",
    "id": "7gqrVfXUuTBg"
   },
   "outputs": [],
   "source": [
    "xml_in = \"\"\"\n",
    "<case>\n",
    "    <number>1</number>\n",
    "    <age></age>\n",
    "    <sex></sex>\n",
    "    <composition></composition>\n",
    "    <echogenicity></echogenicity>\n",
    "    <margins></margins>\n",
    "    <calcifications></calcifications>\n",
    "    <tirads></tirads>\n",
    "    <reportbacaf></reportbacaf>\n",
    "    <reporteco></reporteco>\n",
    "    <mark>\n",
    "        <image>1</image>\n",
    "        <svg>[{\"points\": [{\"x\": 385, \"y\": 182}, {\"x\": 398, \"y\": 179}, {\"x\": 404, \"y\": 176}, {\"x\": 409, \"y\": 173}, {\"x\":\n",
    "            415, \"y\": 159}, {\"x\": 417, \"y\": 153}, {\"x\": 421, \"y\": 143}, {\"x\": 421, \"y\": 136}, {\"x\": 419, \"y\": 76}, {\"x\":\n",
    "            412, \"y\": 73}, {\"x\": 406, \"y\": 69}, {\"x\": 393, \"y\": 61}, {\"x\": 390, \"y\": 57}, {\"x\": 383, \"y\": 53}, {\"x\":\n",
    "            378, \"y\": 50}, {\"x\": 369, \"y\": 44}, {\"x\": 360, \"y\": 42}, {\"x\": 352, \"y\": 42}, {\"x\": 348, \"y\": 42}, {\"x\":\n",
    "            340, \"y\": 41}, {\"x\": 331, \"y\": 40}, {\"x\": 321, \"y\": 40}, {\"x\": 311, \"y\": 39}, {\"x\": 304, \"y\": 39}, {\"x\":\n",
    "            294, \"y\": 42}, {\"x\": 270, \"y\": 43}, {\"x\": 264, \"y\": 42}, {\"x\": 253, \"y\": 41}, {\"x\": 242, \"y\": 39}, {\"x\":\n",
    "            231, \"y\": 37}, {\"x\": 221, \"y\": 36}, {\"x\": 209, \"y\": 35}, {\"x\": 190, \"y\": 39}, {\"x\": 164, \"y\": 49}, {\"x\":\n",
    "            158, \"y\": 51}, {\"x\": 146, \"y\": 69}, {\"x\": 137, \"y\": 80}, {\"x\": 133, \"y\": 89}, {\"x\": 136, \"y\": 236}, {\"x\":\n",
    "            142, \"y\": 244}, {\"x\": 149, \"y\": 251}, {\"x\": 161, \"y\": 261}, {\"x\": 210, \"y\": 271}, {\"x\": 217, \"y\": 274},\n",
    "            {\"x\": 223, \"y\": 279}, {\"x\": 228, \"y\": 284}, {\"x\": 235, \"y\": 290}, {\"x\": 261, \"y\": 294}, {\"x\": 301, \"y\":\n",
    "            296}, {\"x\": 309, \"y\": 294}, {\"x\": 320, \"y\": 287}, {\"x\": 326, \"y\": 283}, {\"x\": 327, \"y\": 281}, {\"x\": 332,\n",
    "            \"y\": 271}, {\"x\": 338, \"y\": 263}, {\"x\": 347, \"y\": 253}, {\"x\": 348, \"y\": 240}, {\"x\": 349, \"y\": 222}, {\"x\":\n",
    "            360, \"y\": 212}, {\"x\": 369, \"y\": 207}, {\"x\": 372, \"y\": 198}, {\"x\": 382, \"y\": 183}, {\"x\": 383, \"y\": 181},\n",
    "            {\"x\": 386, \"y\": 181}], \"annotation\": {}, \"regionType\": \"freehand\"}]\n",
    "        </svg>\n",
    "    </mark>\n",
    "    <mark>\n",
    "        <image>2</image>\n",
    "        <svg>[{\"points\": [{\"x\": 417, \"y\": 155}, {\"x\": 418, \"y\": 76}, {\"x\": 413, \"y\": 73}, {\"x\": 406, \"y\": 70}, {\"x\":\n",
    "            401, \"y\": 62}, {\"x\": 393, \"y\": 56}, {\"x\": 388, \"y\": 52}, {\"x\": 383, \"y\": 42}, {\"x\": 374, \"y\": 41}, {\"x\":\n",
    "            365, \"y\": 41}, {\"x\": 355, \"y\": 41}, {\"x\": 347, \"y\": 40}, {\"x\": 340, \"y\": 40}, {\"x\": 330, \"y\": 40}, {\"x\":\n",
    "            325, \"y\": 39}, {\"x\": 318, \"y\": 39}, {\"x\": 313, \"y\": 39}, {\"x\": 301, \"y\": 39}, {\"x\": 277, \"y\": 39}, {\"x\":\n",
    "            264, \"y\": 39}, {\"x\": 249, \"y\": 41}, {\"x\": 241, \"y\": 41}, {\"x\": 236, \"y\": 37}, {\"x\": 220, \"y\": 35}, {\"x\":\n",
    "            207, \"y\": 35}, {\"x\": 194, \"y\": 42}, {\"x\": 183, \"y\": 46}, {\"x\": 172, \"y\": 52}, {\"x\": 160, \"y\": 57}, {\"x\":\n",
    "            137, \"y\": 88}, {\"x\": 136, \"y\": 104}, {\"x\": 144, \"y\": 241}, {\"x\": 148, \"y\": 242}, {\"x\": 159, \"y\": 243}, {\"x\":\n",
    "            173, \"y\": 244}, {\"x\": 181, \"y\": 250}, {\"x\": 188, \"y\": 258}, {\"x\": 192, \"y\": 264}, {\"x\": 200, \"y\": 274},\n",
    "            {\"x\": 208, \"y\": 277}, {\"x\": 232, \"y\": 285}, {\"x\": 241, \"y\": 288}, {\"x\": 288, \"y\": 296}, {\"x\": 310, \"y\":\n",
    "            296}, {\"x\": 322, \"y\": 290}, {\"x\": 327, \"y\": 284}, {\"x\": 332, \"y\": 274}, {\"x\": 338, \"y\": 264}, {\"x\": 344,\n",
    "            \"y\": 258}, {\"x\": 348, \"y\": 251}, {\"x\": 350, \"y\": 242}, {\"x\": 354, \"y\": 226}, {\"x\": 356, \"y\": 217}, {\"x\":\n",
    "            367, \"y\": 206}, {\"x\": 390, \"y\": 204}, {\"x\": 395, \"y\": 204}, {\"x\": 404, \"y\": 203}, {\"x\": 410, \"y\": 200},\n",
    "            {\"x\": 417, \"y\": 193}, {\"x\": 419, \"y\": 190}, {\"x\": 417, \"y\": 153}], \"annotation\": {}, \"regionType\":\n",
    "            \"freehand\"}]\n",
    "        </svg>\n",
    "    </mark>\n",
    "</case>\"\"\""
   ]
  },
  {
   "cell_type": "code",
   "execution_count": null,
   "metadata": {
    "colab": {},
    "colab_type": "code",
    "id": "KZVtOL_2wClj"
   },
   "outputs": [],
   "source": [
    "xml_out = \"\"\"\n",
    "<annotations>\n",
    "    <folder>images</folder>\n",
    "    <filename>1_1.jpg</filename>\n",
    "    <folder>VOC</folder>\n",
    "    <size>\n",
    "        <width>560</width>\n",
    "        <height>360</height>\n",
    "        <depth>3</depth>\n",
    "    </size>\n",
    "    <object>\n",
    "        <name>thyroid_cancer</name>\n",
    "        <pose>Unspecified</pose>\n",
    "        <truncated>0</truncated>\n",
    "        <difficult>0</difficult>\n",
    "        <bndbox>\n",
    "            <xmin>142</xmin>\n",
    "            <ymin>161</ymin>\n",
    "            <xmax>430</xmax>\n",
    "            <ymax>287</ymax>\n",
    "        </bndbox>\n",
    "    </object>\n",
    "</annotations>\"\"\""
   ]
  },
  {
   "cell_type": "code",
   "execution_count": null,
   "metadata": {
    "colab": {},
    "colab_type": "code",
    "id": "FGHQP4srxcbZ"
   },
   "outputs": [],
   "source": [
    "tree_in = ET.parse('input.txt')\n",
    "\n",
    "\n",
    "root_in = tree_in.getroot()\n"
   ]
  },
  {
   "cell_type": "code",
   "execution_count": null,
   "metadata": {
    "colab": {},
    "colab_type": "code",
    "id": "_GEodJ-6bz7n"
   },
   "outputs": [],
   "source": [
    "def get_box(points):\n",
    "    xmin = min(points, key = lambda item: item[0])[0]\n",
    "    ymin = min(points, key = lambda item: item[1])[1]\n",
    "    xmax = max(points, key = lambda item: item[0])[0]\n",
    "    ymax = max(points, key = lambda item: item[1])[1]\n",
    "    return (xmin, ymin, xmax, ymax)"
   ]
  },
  {
   "cell_type": "code",
   "execution_count": null,
   "metadata": {
    "colab": {},
    "colab_type": "code",
    "id": "D-vm7--yb0zK"
   },
   "outputs": [],
   "source": [
    "marks = root_in.findall('.//mark')\n",
    "number = root_in.find('number').text"
   ]
  },
  {
   "cell_type": "code",
   "execution_count": null,
   "metadata": {
    "colab": {},
    "colab_type": "code",
    "id": "YkR-HoLDdi2a"
   },
   "outputs": [],
   "source": [
    "def get_bbox_from_segment(svg):\n",
    "    data = json.loads(svg)\n",
    "    # print(data)\n",
    "    points = data[0]['points']\n",
    "    points_coord = []\n",
    "    for point in points:\n",
    "        points_coord.append((int(point['x']), int(point['y'])))\n",
    "    bbox = get_box(points_coord)\n",
    "    return bbox"
   ]
  },
  {
   "cell_type": "code",
   "execution_count": null,
   "metadata": {
    "colab": {
     "base_uri": "https://localhost:8080/",
     "height": 85
    },
    "colab_type": "code",
    "id": "GXsvoZSiwEEX",
    "outputId": "de27d0a1-e0a0-4a5f-b8c6-c8f37f1d6580"
   },
   "outputs": [
    {
     "name": "stdout",
     "output_type": "stream",
     "text": [
      "1_1\n",
      "(133, 35, 421, 296)\n",
      "1_2\n",
      "(136, 35, 419, 296)\n"
     ]
    }
   ],
   "source": [
    "bbox_element = \"\"\"\n",
    "<object>\n",
    "        <name>thyroid_cancer</name>\n",
    "        <pose>Unspecified</pose>\n",
    "        <truncated>0</truncated>\n",
    "        <difficult>0</difficult>\n",
    "        <bndbox>\n",
    "            <xmin>142</xmin>\n",
    "            <ymin>161</ymin>\n",
    "            <xmax>430</xmax>\n",
    "            <ymax>287</ymax>\n",
    "        </bndbox>\n",
    "</object>\n",
    "    \"\"\"\n",
    "# print(ET.tostring(root_out, encoding='utf8').decode('utf8'))\n",
    "for mark in marks:\n",
    "  tree_out = ET.parse('pascal.txt')\n",
    "  root_out = tree_out.getroot()\n",
    "  bbox_el = ET.fromstring(bbox_element)\n",
    "  image = mark.find('image').text\n",
    "  image_file = '{}_{}'.format(number, image)\n",
    "  print(image_file)\n",
    "  svg = mark.find('svg').text\n",
    "  root_out.find('filename').text = '{}.jpg'.format(image_file)\n",
    "  root_out.find('.//width').text = \"560\"\n",
    "  root_out.find('.//height').text = \"360\"\n",
    "  bbox = get_bbox_from_segment(svg)\n",
    "  print(bbox)\n",
    "  bbox_el.find('.//name').text = 'thyroid_cancer'\n",
    "  bbox_el.find('.//xmin').text = str(bbox[0])\n",
    "  bbox_el.find('.//ymin').text = str(bbox[1])\n",
    "  bbox_el.find('.//xmax').text = str(bbox[2])\n",
    "  bbox_el.find('.//ymax').text = str(bbox[3])\n",
    "  # print(ET.tostring(bbox_el, encoding='utf8').decode('utf8'))\n",
    "  root_out.insert(1, bbox_el)\n",
    "  # print(svg)\n",
    "  object_xml = root_out.findall('.')\n",
    "  # print(ET.tostring(object_xml[0], encoding='utf8').decode('utf8'))\n",
    "  tree_out.write('{}.txt'.format(image_file))"
   ]
  },
  {
   "cell_type": "code",
   "execution_count": null,
   "metadata": {
    "colab": {},
    "colab_type": "code",
    "id": "ZKLqdYHwvwAW"
   },
   "outputs": [],
   "source": []
  }
 ],
 "metadata": {
  "colab": {
   "collapsed_sections": [],
   "name": "xml_cheatsheet.ipynb",
   "provenance": []
  },
  "interpreter": {
   "hash": "b3812898eb0523f56fd7f8d5c11ff8764dbae99d6a34080b31f97a789b1e02bd"
  },
  "kernelspec": {
   "display_name": "Python 3.8.10 64-bit (windows store)",
   "language": "python",
   "name": "python3"
  },
  "language_info": {
   "codemirror_mode": {
    "name": "ipython",
    "version": 3
   },
   "file_extension": ".py",
   "mimetype": "text/x-python",
   "name": "python",
   "nbconvert_exporter": "python",
   "pygments_lexer": "ipython3",
   "version": "3.8.10"
  }
 },
 "nbformat": 4,
 "nbformat_minor": 2
}
