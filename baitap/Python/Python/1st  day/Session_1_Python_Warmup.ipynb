{
 "cells": [
  {
   "cell_type": "markdown",
   "metadata": {
    "colab_type": "text",
    "id": "SOdY2SAfy3cR"
   },
   "source": [
    "###Q1. Kết quả của đoạn code sau là gì?"
   ]
  },
  {
   "cell_type": "code",
   "execution_count": null,
   "metadata": {
    "colab": {
     "base_uri": "https://localhost:8080/"
    },
    "colab_type": "code",
    "id": "Tjry5GpGywG_",
    "outputId": "a01aa1a6-2dc9-4397-9e0a-feb1410bfc13"
   },
   "outputs": [
    {
     "name": "stdout",
     "output_type": "stream",
     "text": [
      "False\n",
      "True\n"
     ]
    }
   ],
   "source": [
    "x = 5\n",
    "y = 10\n",
    "z = 8\n",
    "\n",
    "print(x > y)\n",
    "print(y > z)"
   ]
  },
  {
   "cell_type": "markdown",
   "metadata": {
    "colab_type": "text",
    "id": "ahh8JzrDwS1P"
   },
   "source": [
    "### Q2. Kết quả của đoạn code sau là gì?"
   ]
  },
  {
   "cell_type": "code",
   "execution_count": null,
   "metadata": {
    "colab": {},
    "colab_type": "code",
    "id": "G7j7WsP5y5kw"
   },
   "outputs": [],
   "source": [
    "x, y, z = 5, 10, 8\n",
    "\n",
    "print(x > z)\n",
    "print((y - 5) == x)"
   ]
  },
  {
   "cell_type": "markdown",
   "metadata": {
    "colab_type": "text",
    "id": "VEMLGjzFwWD_"
   },
   "source": [
    "### Q3. Kết quả của đoạn code sau là gì?"
   ]
  },
  {
   "cell_type": "code",
   "execution_count": null,
   "metadata": {
    "colab": {},
    "colab_type": "code",
    "id": "ij8ShTJPzKGR"
   },
   "outputs": [],
   "source": [
    "x, y, z = 5, 10, 8\n",
    "x, z = z, x\n",
    "\n",
    "print(x > z)\n",
    "print((y - 5) == x)"
   ]
  },
  {
   "cell_type": "markdown",
   "metadata": {
    "colab_type": "text",
    "id": "QdPfUU44wVDI"
   },
   "source": [
    "### Q4. Kết quả của đoạn code sau là gì?"
   ]
  },
  {
   "cell_type": "code",
   "execution_count": null,
   "metadata": {
    "colab": {},
    "colab_type": "code",
    "id": "sOcxmLR2FRTR"
   },
   "outputs": [],
   "source": [
    "x = 1\n",
    "y = 0\n",
    "\n",
    "z = ((x == y) and (x == y)) or not(x == y)\n",
    "print(not(z))"
   ]
  },
  {
   "cell_type": "markdown",
   "metadata": {
    "colab_type": "text",
    "id": "hKDb9gAMwpd9"
   },
   "source": [
    "### Q5. Kết quả của đoạn code sau là gì?"
   ]
  },
  {
   "cell_type": "code",
   "execution_count": null,
   "metadata": {
    "colab": {},
    "colab_type": "code",
    "id": "wo9L8dBa1iHm"
   },
   "outputs": [],
   "source": [
    "l1 = [\"A\", \"B\", \"C\"]\n",
    "l2 = l1\n",
    "l3 = l2\n",
    "\n",
    "l1[0] = 'D'\n",
    "\n",
    "print(l1)\n",
    "print(l2)\n",
    "print(l3)"
   ]
  },
  {
   "cell_type": "code",
   "execution_count": null,
   "metadata": {
    "colab": {},
    "colab_type": "code",
    "id": "r8k2KTN5slAO"
   },
   "outputs": [],
   "source": [
    "l1 = [\"A\", \"B\", \"C\"]\n",
    "l2 = l1[:]\n",
    "\n",
    "l1[0] = 'D'\n",
    "\n",
    "print(l1)\n",
    "print(l2)"
   ]
  },
  {
   "cell_type": "markdown",
   "metadata": {
    "colab_type": "text",
    "id": "yIeCCRKwwssn"
   },
   "source": [
    "### Q6. Kết quả của đoạn code sau là gì?"
   ]
  },
  {
   "cell_type": "code",
   "execution_count": null,
   "metadata": {
    "colab": {},
    "colab_type": "code",
    "id": "7cgZ0xS3h1nU"
   },
   "outputs": [],
   "source": [
    "i = 1\n",
    "while i < 5:\n",
    "    print(i)\n",
    "    i += 1\n",
    "else:\n",
    "    print(\"else:\", i)"
   ]
  },
  {
   "cell_type": "markdown",
   "metadata": {
    "colab_type": "text",
    "id": "PKM013n3wwV7"
   },
   "source": [
    "### Q7. Kết quả của đoạn code sau là gì?"
   ]
  },
  {
   "cell_type": "code",
   "execution_count": null,
   "metadata": {
    "colab": {},
    "colab_type": "code",
    "id": "40HPLeg1zZ1W"
   },
   "outputs": [],
   "source": [
    "x = \"1\"\n",
    "\n",
    "if x == 1:\n",
    "    print(\"one\")\n",
    "elif x == \"1\":\n",
    "    if int(x) > 1:\n",
    "        print(\"two\")\n",
    "    elif int(x) < 1:\n",
    "        print(\"three\")\n",
    "    else:\n",
    "        print(\"four\")\n",
    "if int(x) == 1:\n",
    "    print(\"five\")\n",
    "else:\n",
    "    print(\"six\")"
   ]
  },
  {
   "cell_type": "markdown",
   "metadata": {
    "colab_type": "text",
    "id": "rMjABU7IrArw"
   },
   "source": [
    "### Q8. Kết quả của đoạn code sau là gì?"
   ]
  },
  {
   "cell_type": "code",
   "execution_count": null,
   "metadata": {
    "colab": {},
    "colab_type": "code",
    "id": "968-hHkBrmvY"
   },
   "outputs": [],
   "source": [
    "2 + 3 * 5"
   ]
  },
  {
   "cell_type": "code",
   "execution_count": null,
   "metadata": {
    "colab": {},
    "colab_type": "code",
    "id": "BUO9E9firW18"
   },
   "outputs": [],
   "source": [
    "10 % 6 % 3"
   ]
  },
  {
   "cell_type": "code",
   "execution_count": null,
   "metadata": {
    "colab": {},
    "colab_type": "code",
    "id": "08BEVDFZrGT5"
   },
   "outputs": [],
   "source": [
    "2 ** 2 ** 3"
   ]
  },
  {
   "cell_type": "markdown",
   "metadata": {
    "colab_type": "text",
    "id": "uFLD6VvmV4h5"
   },
   "source": [
    "### Q9. Viết chương trình sau:\n",
    "Hãy tưởng tượng bạn là một phù thủy có phép thuật. Bạn có một con số bí mật đươc lưu vào biến `secret_number` và bạn muốn tạo ra một chương trình bắt người chơi đoán con số bí mật đó. Nếu đoán không được thì sẽ bị kẹt trong vòng lặp của bạn mãi mãi. Hãy viết chương trình thỏa mãn các điều kiện sau:\n",
    "- Yêu cầu người chơi nhập vào một số nguyên (dùng lệnh input())\n",
    "- Nếu số được nhập không giống với `secret_number`, in ra câu `Ha ha! You're stuck in my loop!` và tiếp tục yêu cầu người chơi nhập và con số khác\n",
    "- Nếu số được nhập trùng với `secret_number`, in ra câu `Well done, muggle! You are free now.`\n"
   ]
  },
  {
   "cell_type": "code",
   "execution_count": null,
   "metadata": {
    "colab": {},
    "colab_type": "code",
    "id": "aS5Gzau3A6f2"
   },
   "outputs": [],
   "source": [
    "secret = 123\n",
    "user_input = int(input())\n",
    "\n"
   ]
  },
  {
   "cell_type": "markdown",
   "metadata": {
    "colab_type": "text",
    "id": "Wu9l7gNIgh8N"
   },
   "source": [
    "### Q10. Viết chương trình nhận vào 1 chuỗi, in ra các ký tự không phải là nguyên âm và viết hoa tất cả các ký tự này."
   ]
  },
  {
   "cell_type": "code",
   "execution_count": null,
   "metadata": {
    "colab": {},
    "colab_type": "code",
    "id": "NFM2uH_Li4vb"
   },
   "outputs": [],
   "source": [
    "'a', 'e', 'i', 'o', 'u'"
   ]
  },
  {
   "cell_type": "code",
   "execution_count": null,
   "metadata": {},
   "outputs": [],
   "source": []
  }
 ],
 "metadata": {
  "colab": {
   "collapsed_sections": [],
   "name": "Python_Warmup.ipynb",
   "provenance": []
  },
  "kernelspec": {
   "display_name": "Python 3",
   "language": "python",
   "name": "python3"
  },
  "language_info": {
   "codemirror_mode": {
    "name": "ipython",
    "version": 3
   },
   "file_extension": ".py",
   "mimetype": "text/x-python",
   "name": "python",
   "nbconvert_exporter": "python",
   "pygments_lexer": "ipython3",
   "version": "3.6.4"
  }
 },
 "nbformat": 4,
 "nbformat_minor": 2
}
