{
 "cells": [
  {
   "cell_type": "markdown",
   "metadata": {
    "colab_type": "text",
    "id": "q66aIvbZXXN1"
   },
   "source": [
    "## List Comprehension"
   ]
  },
  {
   "cell_type": "markdown",
   "metadata": {
    "colab_type": "text",
    "id": "eAKvED-Jn10Y"
   },
   "source": [
    "- List comprehension là một cách viết ngắn ngọn để tạo một list dựa trên một list khác\n",
    "- `[expresion for_loop_one_or_more condition]`"
   ]
  },
  {
   "cell_type": "markdown",
   "metadata": {
    "colab_type": "text",
    "id": "20yBZc9Io0aM"
   },
   "source": [
    "### Iterating through a string"
   ]
  },
  {
   "cell_type": "code",
   "execution_count": null,
   "metadata": {
    "colab": {
     "base_uri": "https://localhost:8080/",
     "height": 35
    },
    "colab_type": "code",
    "id": "tqrlzQpmo9zD",
    "outputId": "aef365fc-0dbb-4153-a759-3d15c9dded66"
   },
   "outputs": [
    {
     "name": "stdout",
     "output_type": "stream",
     "text": [
      "['H', 'E', 'L', 'L', 'O']\n"
     ]
    }
   ],
   "source": [
    "s = 'hello'\n",
    "\n",
    "# chars = []\n",
    "# for element in s:\n",
    "#   chars.append(element.upper())\n",
    "\n",
    "chars = [element.upper() for element in s]\n",
    "print(chars)"
   ]
  },
  {
   "cell_type": "markdown",
   "metadata": {
    "colab_type": "text",
    "id": "Thuu33BLoeMq"
   },
   "source": [
    "### Apply an operation on each items in a list"
   ]
  },
  {
   "cell_type": "code",
   "execution_count": null,
   "metadata": {
    "colab": {
     "base_uri": "https://localhost:8080/",
     "height": 52
    },
    "colab_type": "code",
    "id": "o7D8poTcovCL",
    "outputId": "2002870a-7183-40e4-e8d4-ac0584d833e8"
   },
   "outputs": [
    {
     "name": "stdout",
     "output_type": "stream",
     "text": [
      "For loop version: ['HOM', 'NAY', 'TROI', 'DEP', 'QUA']\n",
      "List Comprehension Version: ['HOM', 'NAY', 'TROI', 'DEP', 'QUA']\n"
     ]
    }
   ],
   "source": [
    "list_1 = ['hom', 'nay', 'troi', 'dep', 'qua']\n",
    "\n",
    "### Using for loop\n",
    "list_2 = []\n",
    "for i in list_1:\n",
    "  item = i.upper()\n",
    "  list_2.append(item)\n",
    "print('For loop version:', list_2)\n",
    "\n",
    "### List Comprehension version\n",
    "list_3 = [i.upper() for i in list_1]\n",
    "print('List Comprehension Version:', list_3)"
   ]
  },
  {
   "cell_type": "code",
   "execution_count": null,
   "metadata": {
    "colab": {
     "base_uri": "https://localhost:8080/",
     "height": 51
    },
    "colab_type": "code",
    "id": "gTXbo9VPXbV4",
    "outputId": "44323a81-1728-486b-a5ae-dcb77b3ce057"
   },
   "outputs": [
    {
     "name": "stdout",
     "output_type": "stream",
     "text": [
      "For loop version: [14, 48, 24, 32, 18]\n",
      "List comprehension version: [14, 48, 24, 32, 18]\n"
     ]
    }
   ],
   "source": [
    "l = [7,24,12,16,9]\n",
    "\n",
    "# Using for loop\n",
    "l_double_for = []\n",
    "for element in l:\n",
    "  l_double_for.append(element * 2)\n",
    "print('For loop version:', l_double_for)\n",
    "\n",
    "# Using list comprehension\n",
    "l_double = [element * 2 for element in l]\n",
    "print('List comprehension version:', l_double_for)"
   ]
  },
  {
   "cell_type": "markdown",
   "metadata": {
    "colab_type": "text",
    "id": "4osBY1rdZBO1"
   },
   "source": [
    "### Filtering with list comprehension"
   ]
  },
  {
   "cell_type": "code",
   "execution_count": null,
   "metadata": {
    "colab": {
     "base_uri": "https://localhost:8080/",
     "height": 34
    },
    "colab_type": "code",
    "id": "LCle3P3mY1Ha",
    "outputId": "c05e6316-58fb-4352-aa85-17be09c6d1cf"
   },
   "outputs": [
    {
     "name": "stdout",
     "output_type": "stream",
     "text": [
      "List commprehension version: [7, 8, 10, 12]\n"
     ]
    }
   ],
   "source": [
    "l = [1,2,4,5,7,8,10,12]\n",
    "\n",
    "filtered = [element for element in l if element > 5]\n",
    "print('List commprehension version:', filtered)"
   ]
  },
  {
   "cell_type": "markdown",
   "metadata": {
    "colab_type": "text",
    "id": "Zr72ZadBqmzr"
   },
   "source": [
    "### Changing elements with condition in list comprehension"
   ]
  },
  {
   "cell_type": "code",
   "execution_count": null,
   "metadata": {
    "colab": {
     "base_uri": "https://localhost:8080/",
     "height": 34
    },
    "colab_type": "code",
    "id": "3bnCuLOomnGy",
    "outputId": "c0611d7a-08be-48a2-a7b1-b384bda61f68"
   },
   "outputs": [
    {
     "name": "stdout",
     "output_type": "stream",
     "text": [
      "['Even', 'Odd', 'Even', 'Odd']\n"
     ]
    }
   ],
   "source": [
    "l = [0,1,2,3,4,5,6,7,8,9]\n",
    "result = ['Odd' if element %2 !=0 else 'Even' for element in l if element > 5]\n",
    "print(result)"
   ]
  },
  {
   "cell_type": "markdown",
   "metadata": {
    "colab_type": "text",
    "id": "DxjGvpUpyn1n"
   },
   "source": [
    "### Nested loop with list comprehension"
   ]
  },
  {
   "cell_type": "code",
   "execution_count": null,
   "metadata": {
    "colab": {
     "base_uri": "https://localhost:8080/",
     "height": 52
    },
    "colab_type": "code",
    "id": "n58YPBMuyrKD",
    "outputId": "29d18672-06c1-4a9c-8107-8b1cb85d6e0b"
   },
   "outputs": [
    {
     "name": "stdout",
     "output_type": "stream",
     "text": [
      "[[0, 0, 0], [1, 1, 1], [2, 2, 2]]\n",
      "[[0, 0, 0], [2, 2, 2], [4, 4, 4]]\n"
     ]
    }
   ],
   "source": [
    "matrix = [\n",
    "     [0, 0, 0],\n",
    "     [1, 1, 1],\n",
    "     [2, 2, 2],\n",
    "]\n",
    "flat = [row for row in matrix]\n",
    "flat2 = [[ele * 2 for ele in row] for row in matrix]\n",
    "print(flat)\n",
    "print(flat2)"
   ]
  },
  {
   "cell_type": "markdown",
   "metadata": {
    "colab_type": "text",
    "id": "8UN90six5VDj"
   },
   "source": [
    "### Set Comprehension"
   ]
  },
  {
   "cell_type": "code",
   "execution_count": null,
   "metadata": {
    "colab": {
     "base_uri": "https://localhost:8080/",
     "height": 34
    },
    "colab_type": "code",
    "id": "TlCbBHlp5YlU",
    "outputId": "b1643407-2d19-407b-ad98-cf5324bd723a"
   },
   "outputs": [
    {
     "data": {
      "text/plain": [
       "{8, 10, 12, 34, 70, 90}"
      ]
     },
     "execution_count": 37,
     "metadata": {
      "tags": []
     },
     "output_type": "execute_result"
    }
   ],
   "source": [
    "# syntax for set comprehension\n",
    "# {expression for item in iterable}\n",
    "numbers = (1, 34, 5, 8, 10, 12, 3, 90, 70, 70, 90)\n",
    "unique_even_numbers = {number for number in numbers if number%2 == 0}\n",
    "unique_even_numbers\n",
    "{34, 70, 8, 10, 12, 90}"
   ]
  },
  {
   "cell_type": "markdown",
   "metadata": {
    "colab_type": "text",
    "id": "XWMVDSTT54rG"
   },
   "source": [
    "### Dictionary Comprehension"
   ]
  },
  {
   "cell_type": "code",
   "execution_count": 4,
   "metadata": {
    "colab": {
     "base_uri": "https://localhost:8080/",
     "height": 69
    },
    "colab_type": "code",
    "id": "rfvNnOEd6ClC",
    "outputId": "0d65b7ee-0567-4d1f-e469-cd3e4728b7ae"
   },
   "outputs": [
    {
     "name": "stdout",
     "output_type": "stream",
     "text": [
      "{'hom': 3, 'nay': 3, 'troi': 4, 'dep': 3, 'qua': 3}\n",
      "{'hom': 3, 'nay': 3, 'troi': 4, 'dep': 3, 'qua': 3}\n",
      "{'hom': 3}\n"
     ]
    }
   ],
   "source": [
    "# syntax for dict comprehension\n",
    "# {key_expression : value_expression for item in iterable}\n",
    "words = ('hom', 'nay', 'troi', 'dep', 'qua')\n",
    "d = {}\n",
    "for w in words:\n",
    "  d[w] = len(w)\n",
    "print(d)\n",
    "\n",
    "len_words = {word : len(word) for word in words}\n",
    "print(len_words)\n",
    "\n",
    "len_words_p = {word : len(word) for word in words if word.startswith('h')}\n",
    "print(len_words_p)"
   ]
  },
  {
   "cell_type": "markdown",
   "metadata": {
    "colab_type": "text",
    "id": "gu7afkQaruWj"
   },
   "source": [
    "### Notes\n",
    "- List comprehension is generally more compact and faster than normal functions and loops for creating list.\n",
    "- Avoid writing very long list comprehensions to ensure user-friendly\n",
    "- Every list comprehension can be rewritten in for loop, but every for loop can’t be rewritten in the form of list comprehension."
   ]
  },
  {
   "cell_type": "code",
   "execution_count": null,
   "metadata": {
    "colab": {},
    "colab_type": "code",
    "id": "WFrS1oMV03Ug"
   },
   "outputs": [],
   "source": []
  },
  {
   "cell_type": "code",
   "execution_count": null,
   "metadata": {
    "colab": {},
    "colab_type": "code",
    "id": "oOo78d--2Xgu"
   },
   "outputs": [],
   "source": []
  },
  {
   "cell_type": "markdown",
   "metadata": {
    "colab_type": "text",
    "id": "_co_DUCowtC1"
   },
   "source": [
    "## Excercises\n"
   ]
  },
  {
   "cell_type": "markdown",
   "metadata": {
    "colab_type": "text",
    "id": "B_VePDTnxaCX"
   },
   "source": [
    "### Q1. Cho `list1` sau, dùng list comprehension tạo một `list2` với các phần tử là phần tử của `list1` cộng với dấu `, `  cộng với tên của bạn\n"
   ]
  },
  {
   "cell_type": "code",
   "execution_count": null,
   "metadata": {
    "colab": {
     "base_uri": "https://localhost:8080/",
     "height": 35
    },
    "colab_type": "code",
    "id": "NdGranCGwv-A",
    "outputId": "57e9043f-6c7a-486d-cda5-ae5667e55357"
   },
   "outputs": [
    {
     "data": {
      "text/plain": [
       "['Hi, Khue', 'Hello, Khue', 'Halo, Khue', 'Xin chào, Khue']"
      ]
     },
     "execution_count": 7,
     "metadata": {
      "tags": []
     },
     "output_type": "execute_result"
    }
   ],
   "source": [
    "list1 = ['Hi', 'Hello', 'Halo', 'Xin chào']\n",
    "list2 = [ele + ', ' + 'Khue' for ele in list1]\n",
    "list2"
   ]
  },
  {
   "cell_type": "markdown",
   "metadata": {
    "colab_type": "text",
    "id": "j3EC6rXoyXh5"
   },
   "source": [
    "### Q2. Dùng list comprehension tạo ra một list bao gồm các số chia hết cho 3 từ 1 đến 100"
   ]
  },
  {
   "cell_type": "code",
   "execution_count": null,
   "metadata": {
    "colab": {
     "base_uri": "https://localhost:8080/",
     "height": 589
    },
    "colab_type": "code",
    "id": "vKmgxrVJPpem",
    "outputId": "85d3a8f2-64e4-4971-9271-cddc49b83aa3"
   },
   "outputs": [
    {
     "data": {
      "text/plain": [
       "[3,\n",
       " 6,\n",
       " 9,\n",
       " 12,\n",
       " 15,\n",
       " 18,\n",
       " 21,\n",
       " 24,\n",
       " 27,\n",
       " 30,\n",
       " 33,\n",
       " 36,\n",
       " 39,\n",
       " 42,\n",
       " 45,\n",
       " 48,\n",
       " 51,\n",
       " 54,\n",
       " 57,\n",
       " 60,\n",
       " 63,\n",
       " 66,\n",
       " 69,\n",
       " 72,\n",
       " 75,\n",
       " 78,\n",
       " 81,\n",
       " 84,\n",
       " 87,\n",
       " 90,\n",
       " 93,\n",
       " 96,\n",
       " 99]"
      ]
     },
     "execution_count": 12,
     "metadata": {
      "tags": []
     },
     "output_type": "execute_result"
    }
   ],
   "source": [
    "l = [i for i in range(1,101) if i %3 == 0]\n",
    "l"
   ]
  },
  {
   "cell_type": "markdown",
   "metadata": {
    "colab_type": "text",
    "id": "vaVpqgHHy0dg"
   },
   "source": [
    "### Q3. Cho chuỗi bất kỳ, đếm số chữ viết hoa (chỉ dùng list comprehension)"
   ]
  },
  {
   "cell_type": "code",
   "execution_count": null,
   "metadata": {
    "colab": {},
    "colab_type": "code",
    "id": "vt999pAByv8N"
   },
   "outputs": [],
   "source": [
    "st = 'pqkgnazvNfukdnkcqzmeukFtomkcaszklkzmtknhkbZekcKngdedok'"
   ]
  },
  {
   "cell_type": "code",
   "execution_count": null,
   "metadata": {
    "colab": {
     "base_uri": "https://localhost:8080/",
     "height": 35
    },
    "colab_type": "code",
    "id": "GubH7IHkQY15",
    "outputId": "cc66f9ff-a304-47c5-f570-2564fb51dd04"
   },
   "outputs": [
    {
     "data": {
      "text/plain": [
       "4"
      ]
     },
     "execution_count": 17,
     "metadata": {
      "tags": []
     },
     "output_type": "execute_result"
    }
   ],
   "source": [
    "l3 = [char for char in st if char.isupper()]\n",
    "len(l3)"
   ]
  },
  {
   "cell_type": "markdown",
   "metadata": {
    "colab_type": "text",
    "id": "_NM-Y7YQ00mX"
   },
   "source": [
    "### Q4. Tạo ma trận `matrix2`từ ma trận `matrix1`"
   ]
  },
  {
   "cell_type": "code",
   "execution_count": null,
   "metadata": {
    "colab": {},
    "colab_type": "code",
    "id": "cLWUka8r0fMp"
   },
   "outputs": [],
   "source": [
    "matrix1 = [\n",
    "     [0, 1, 2],\n",
    "     [0, 1, 2],\n",
    "     [0, 1, 2],\n",
    "]\n",
    "matrix2 = [\n",
    "     [3, 2, 1],\n",
    "     [3, 2, 1],\n",
    "     [3, 2, 1],\n",
    "]"
   ]
  },
  {
   "cell_type": "code",
   "execution_count": null,
   "metadata": {
    "colab": {
     "base_uri": "https://localhost:8080/",
     "height": 35
    },
    "colab_type": "code",
    "id": "63j855DIXS2S",
    "outputId": "7ed396b6-74b5-4189-cab4-539b9ec30865"
   },
   "outputs": [
    {
     "name": "stdout",
     "output_type": "stream",
     "text": [
      "[[3, 2, 1], [3, 2, 1], [3, 2, 1]]\n"
     ]
    }
   ],
   "source": [
    "matrix3 = [[3-ele for ele in row] for row in matrix1]\n",
    "print(matrix3)"
   ]
  },
  {
   "cell_type": "code",
   "execution_count": null,
   "metadata": {
    "colab": {
     "base_uri": "https://localhost:8080/",
     "height": 173
    },
    "colab_type": "code",
    "id": "B03jzUR-RY1c",
    "outputId": "7c769c31-8833-4ff3-ccc4-79525253cc1f"
   },
   "outputs": [
    {
     "data": {
      "text/plain": [
       "[[3, 2, 1],\n",
       " [3, 2, 1],\n",
       " [3, 2, 1],\n",
       " [3, 2, 1],\n",
       " [3, 2, 1],\n",
       " [3, 2, 1],\n",
       " [3, 2, 1],\n",
       " [3, 2, 1],\n",
       " [3, 2, 1]]"
      ]
     },
     "execution_count": 27,
     "metadata": {
      "tags": []
     },
     "output_type": "execute_result"
    }
   ],
   "source": [
    "matrix4 = [r for row in matrix1 for r in matrix2]\n",
    "matrix4"
   ]
  },
  {
   "cell_type": "code",
   "execution_count": null,
   "metadata": {
    "colab": {},
    "colab_type": "code",
    "id": "mLOMg4JoSNGh"
   },
   "outputs": [],
   "source": []
  }
 ],
 "metadata": {
  "colab": {
   "collapsed_sections": [],
   "name": "Python_List_Comprehension.ipynb",
   "provenance": []
  },
  "interpreter": {
   "hash": "b3812898eb0523f56fd7f8d5c11ff8764dbae99d6a34080b31f97a789b1e02bd"
  },
  "kernelspec": {
   "display_name": "Python 3.8.10 64-bit (windows store)",
   "language": "python",
   "name": "python3"
  },
  "language_info": {
   "codemirror_mode": {
    "name": "ipython",
    "version": 3
   },
   "file_extension": ".py",
   "mimetype": "text/x-python",
   "name": "python",
   "nbconvert_exporter": "python",
   "pygments_lexer": "ipython3",
   "version": "3.8.10"
  }
 },
 "nbformat": 4,
 "nbformat_minor": 2
}
