{
  "nbformat": 4,
  "nbformat_minor": 0,
  "metadata": {
    "colab": {
      "name": "Session2_Basic concepts 2 Working with files.ipynb",
      "provenance": [],
      "collapsed_sections": [],
      "toc_visible": true
    },
    "kernelspec": {
      "name": "python3",
      "display_name": "Python 3"
    }
  },
  "cells": [
    {
      "cell_type": "markdown",
      "metadata": {
        "id": "3GzaLCdUB3zH",
        "colab_type": "text"
      },
      "source": [
        "# Python’s “with open(…) as …” Pattern"
      ]
    },
    {
      "cell_type": "markdown",
      "metadata": {
        "id": "n2h_1Fx6CAe1",
        "colab_type": "text"
      },
      "source": [
        "\n",
        "\n",
        "> Read file\n",
        "\n"
      ]
    },
    {
      "cell_type": "code",
      "metadata": {
        "id": "gmjGYjFmBXXv",
        "colab_type": "code",
        "colab": {}
      },
      "source": [
        "with open('data.txt', 'r') as f:\n",
        "    data = f.read()"
      ],
      "execution_count": null,
      "outputs": []
    },
    {
      "cell_type": "markdown",
      "metadata": {
        "id": "yx5o06g5CDK5",
        "colab_type": "text"
      },
      "source": [
        "\n",
        "\n",
        "> Write data to a file\n",
        "\n"
      ]
    },
    {
      "cell_type": "code",
      "metadata": {
        "id": "qI_BZLJeB60R",
        "colab_type": "code",
        "colab": {}
      },
      "source": [
        "with open('data.txt', 'w') as f:\n",
        "    data = 'some data to be written to the file'\n",
        "    f.write(data)"
      ],
      "execution_count": null,
      "outputs": []
    },
    {
      "cell_type": "markdown",
      "metadata": {
        "id": "4G6eM1DyCozM",
        "colab_type": "text"
      },
      "source": [
        "# Getting a Directory Listing"
      ]
    },
    {
      "cell_type": "markdown",
      "metadata": {
        "id": "Yp3xZRUADLTM",
        "colab_type": "text"
      },
      "source": [
        "## Directory Listing"
      ]
    },
    {
      "cell_type": "markdown",
      "metadata": {
        "id": "ApAVW0DbD8Yw",
        "colab_type": "text"
      },
      "source": [
        "Function|\tDescription|\n",
        "--------|---------------\n",
        "os.listdir() |\tReturns a list of all files and folders in a directory|\n",
        "os.scandir() |\tReturns an iterator of all the objects in a directory including file attribute information|"
      ]
    },
    {
      "cell_type": "code",
      "metadata": {
        "id": "HdsErYeYCp2g",
        "colab_type": "code",
        "colab": {}
      },
      "source": [
        "import os\n",
        "entries = os.listdir('sample_data/')"
      ],
      "execution_count": null,
      "outputs": []
    },
    {
      "cell_type": "code",
      "metadata": {
        "id": "cXyLAjVTDJ5o",
        "colab_type": "code",
        "colab": {
          "base_uri": "https://localhost:8080/",
          "height": 153
        },
        "outputId": "3613aa80-d393-42a8-f26b-5f44a4497f27"
      },
      "source": [
        "entries"
      ],
      "execution_count": null,
      "outputs": [
        {
          "output_type": "execute_result",
          "data": {
            "text/plain": [
              "['anscombe.json',\n",
              " 'README.md',\n",
              " 'test',\n",
              " '.ipynb_checkpoints',\n",
              " 'california_housing_test.csv',\n",
              " 'mnist_test.csv',\n",
              " 'mnist_train_small.csv',\n",
              " 'california_housing_train.csv']"
            ]
          },
          "metadata": {
            "tags": []
          },
          "execution_count": 21
        }
      ]
    },
    {
      "cell_type": "code",
      "metadata": {
        "id": "MR395AW1DVfo",
        "colab_type": "code",
        "colab": {
          "base_uri": "https://localhost:8080/",
          "height": 153
        },
        "outputId": "cda38ed7-1a34-4fcc-e503-5fa1485b9669"
      },
      "source": [
        "with os.scandir('sample_data/') as entries_by_scandir:\n",
        "    for entry in entries_by_scandir:\n",
        "        print(entry.name)"
      ],
      "execution_count": null,
      "outputs": [
        {
          "output_type": "stream",
          "text": [
            "anscombe.json\n",
            "README.md\n",
            "test\n",
            ".ipynb_checkpoints\n",
            "california_housing_test.csv\n",
            "mnist_test.csv\n",
            "mnist_train_small.csv\n",
            "california_housing_train.csv\n"
          ],
          "name": "stdout"
        }
      ]
    },
    {
      "cell_type": "markdown",
      "metadata": {
        "id": "f3wpqaclEi3a",
        "colab_type": "text"
      },
      "source": [
        "## Listing All Files in a Directory"
      ]
    },
    {
      "cell_type": "code",
      "metadata": {
        "id": "eAOlakb3DvCp",
        "colab_type": "code",
        "colab": {
          "base_uri": "https://localhost:8080/",
          "height": 119
        },
        "outputId": "48ffabff-fa1d-463b-9721-913dbf8788fb"
      },
      "source": [
        "import os\n",
        "\n",
        "# List all files in a directory using os.listdir\n",
        "basepath = 'sample_data/'\n",
        "for entry in os.listdir(basepath):\n",
        "    if os.path.isfile(os.path.join(basepath, entry)):\n",
        "        print(entry)"
      ],
      "execution_count": null,
      "outputs": [
        {
          "output_type": "stream",
          "text": [
            "anscombe.json\n",
            "README.md\n",
            "california_housing_test.csv\n",
            "mnist_test.csv\n",
            "mnist_train_small.csv\n",
            "california_housing_train.csv\n"
          ],
          "name": "stdout"
        }
      ]
    },
    {
      "cell_type": "markdown",
      "metadata": {
        "id": "HWcpXJdOFUJt",
        "colab_type": "text"
      },
      "source": [
        "## Listing Subdirectories"
      ]
    },
    {
      "cell_type": "code",
      "metadata": {
        "id": "rY2U4YbWE6-Y",
        "colab_type": "code",
        "colab": {
          "base_uri": "https://localhost:8080/",
          "height": 51
        },
        "outputId": "0fa841c1-9d33-4171-d572-89c8758b3fe9"
      },
      "source": [
        "import os\n",
        "\n",
        "# List all subdirectories using os.listdir\n",
        "basepath = 'sample_data/'\n",
        "for entry in os.listdir(basepath):\n",
        "    if os.path.isdir(os.path.join(basepath, entry)):\n",
        "        print(entry)"
      ],
      "execution_count": null,
      "outputs": [
        {
          "output_type": "stream",
          "text": [
            "test\n",
            ".ipynb_checkpoints\n"
          ],
          "name": "stdout"
        }
      ]
    },
    {
      "cell_type": "markdown",
      "metadata": {
        "id": "5LFHw9i7Fyrr",
        "colab_type": "text"
      },
      "source": [
        "# Getting File Attributes"
      ]
    },
    {
      "cell_type": "code",
      "metadata": {
        "id": "ylfoYz3dFYUQ",
        "colab_type": "code",
        "colab": {
          "base_uri": "https://localhost:8080/",
          "height": 153
        },
        "outputId": "df42a906-1fef-471a-d8e5-41a388d440ee"
      },
      "source": [
        "import os\n",
        "with os.scandir('sample_data/') as dir_contents:\n",
        "    for entry in dir_contents:\n",
        "         info = entry.stat()\n",
        "         print(info.st_mtime)"
      ],
      "execution_count": null,
      "outputs": [
        {
          "output_type": "stream",
          "text": [
            "946684800.0\n",
            "946684800.0\n",
            "1600010898.8650634\n",
            "1600010905.129514\n",
            "1598546379.0\n",
            "1598546379.0\n",
            "1598546379.0\n",
            "1598546379.0\n"
          ],
          "name": "stdout"
        }
      ]
    },
    {
      "cell_type": "code",
      "metadata": {
        "id": "7MogvxyKF40Z",
        "colab_type": "code",
        "colab": {}
      },
      "source": [
        "from datetime import datetime\n",
        "from os import scandir\n",
        "\n",
        "def convert_date(timestamp):\n",
        "    d = datetime.utcfromtimestamp(timestamp)\n",
        "    formated_date = d.strftime('%d %b %Y')\n",
        "    return formated_date\n",
        "\n",
        "def get_files():\n",
        "    dir_entries = scandir('sample_data/')\n",
        "    for entry in dir_entries:\n",
        "        if entry.is_file():\n",
        "            info = entry.stat()\n",
        "            print(f'{entry.name}\\t Last Modified: {convert_date(info.st_mtime)}')"
      ],
      "execution_count": null,
      "outputs": []
    },
    {
      "cell_type": "code",
      "metadata": {
        "id": "uAPltLEgGIeR",
        "colab_type": "code",
        "colab": {
          "base_uri": "https://localhost:8080/",
          "height": 119
        },
        "outputId": "1f86d0dc-efc1-4c21-dd98-2bf76e87fc9e"
      },
      "source": [
        "get_files()"
      ],
      "execution_count": null,
      "outputs": [
        {
          "output_type": "stream",
          "text": [
            "anscombe.json\t Last Modified: 01 Jan 2000\n",
            "README.md\t Last Modified: 01 Jan 2000\n",
            "california_housing_test.csv\t Last Modified: 27 Aug 2020\n",
            "mnist_test.csv\t Last Modified: 27 Aug 2020\n",
            "mnist_train_small.csv\t Last Modified: 27 Aug 2020\n",
            "california_housing_train.csv\t Last Modified: 27 Aug 2020\n"
          ],
          "name": "stdout"
        }
      ]
    },
    {
      "cell_type": "markdown",
      "metadata": {
        "id": "0HP0r_lLGce4",
        "colab_type": "text"
      },
      "source": [
        "# Making Directories\n",
        "\n",
        "Function|\tDescription|\n",
        "---------|------------|\n",
        "os.mkdir()|\tCreates a single subdirectory|\n",
        "os.makedirs()|\tCreates multiple directories, including intermediate directories\n"
      ]
    },
    {
      "cell_type": "markdown",
      "metadata": {
        "id": "Sfl03mMPGqp9",
        "colab_type": "text"
      },
      "source": [
        "## Creating a Single Directory"
      ]
    },
    {
      "cell_type": "code",
      "metadata": {
        "id": "91gvSiiPGLMh",
        "colab_type": "code",
        "colab": {}
      },
      "source": [
        "import os\n",
        "\n",
        "os.mkdir('sample_data/example_directory/')"
      ],
      "execution_count": null,
      "outputs": []
    },
    {
      "cell_type": "markdown",
      "metadata": {
        "id": "VEIxf9MrG49z",
        "colab_type": "text"
      },
      "source": [
        "## Creating Multiple Directories"
      ]
    },
    {
      "cell_type": "code",
      "metadata": {
        "id": "C4fMqbksGYGI",
        "colab_type": "code",
        "colab": {}
      },
      "source": [
        "import os\n",
        "\n",
        "os.makedirs('sample_data/fpt/fa')"
      ],
      "execution_count": null,
      "outputs": []
    },
    {
      "cell_type": "markdown",
      "metadata": {
        "id": "UeevGQrqIous",
        "colab_type": "text"
      },
      "source": [
        "# Deleting Files and Directories"
      ]
    },
    {
      "cell_type": "markdown",
      "metadata": {
        "id": "8zwscj6EIzCj",
        "colab_type": "text"
      },
      "source": [
        "## Deleting Files in Python"
      ]
    },
    {
      "cell_type": "code",
      "metadata": {
        "id": "o-5tbuKjG-0P",
        "colab_type": "code",
        "colab": {}
      },
      "source": [
        "import os\n",
        "\n",
        "data_file = '/content/sample_data/mnist_train_small.csv'\n",
        "os.remove(data_file)"
      ],
      "execution_count": null,
      "outputs": []
    },
    {
      "cell_type": "markdown",
      "metadata": {
        "id": "VMFmz4-4JISa",
        "colab_type": "text"
      },
      "source": [
        "## Deleting Directories\n"
      ]
    },
    {
      "cell_type": "code",
      "metadata": {
        "id": "RyJE4ENqJAYZ",
        "colab_type": "code",
        "colab": {
          "base_uri": "https://localhost:8080/",
          "height": 34
        },
        "outputId": "19d8a20e-52b4-42f2-db8d-a72708d3c151"
      },
      "source": [
        "import os\n",
        "\n",
        "trash_dir = '/content/sample_data/test'\n",
        "\n",
        "try:\n",
        "    os.rmdir(trash_dir)\n",
        "except OSError as e:\n",
        "    print(f'Error: {trash_dir} : {e.strerror}')"
      ],
      "execution_count": null,
      "outputs": [
        {
          "output_type": "stream",
          "text": [
            "Error: /content/sample_data/test : Directory not empty\n"
          ],
          "name": "stdout"
        }
      ]
    },
    {
      "cell_type": "markdown",
      "metadata": {
        "id": "184dbyXTMWcw",
        "colab_type": "text"
      },
      "source": [
        "## Deleting Entire Directory Trees"
      ]
    },
    {
      "cell_type": "code",
      "metadata": {
        "id": "x8PUHL5DJRFJ",
        "colab_type": "code",
        "colab": {}
      },
      "source": [
        "import shutil\n",
        "\n",
        "trash_dir = '/content/sample_data/test'\n",
        "\n",
        "try:\n",
        "    shutil.rmtree(trash_dir)\n",
        "except OSError as e:\n",
        "    print(f'Error: {trash_dir} : {e.strerror}')"
      ],
      "execution_count": null,
      "outputs": []
    },
    {
      "cell_type": "markdown",
      "metadata": {
        "id": "RTt4X2NRM-Vj",
        "colab_type": "text"
      },
      "source": [
        "# Copying, Moving, and Renaming Files and Directories\n",
        "## Copying Files in Python"
      ]
    },
    {
      "cell_type": "code",
      "metadata": {
        "id": "BC5HFfcDMjRR",
        "colab_type": "code",
        "colab": {
          "base_uri": "https://localhost:8080/",
          "height": 35
        },
        "outputId": "48e7236c-a977-46bb-b872-f02ead71d6b2"
      },
      "source": [
        "import shutil\n",
        "\n",
        "src = '/content/sample_data/california_housing_train.csv'\n",
        "dst = '/content/sample_data/fpt/fa'\n",
        "shutil.copy(src, dst)"
      ],
      "execution_count": null,
      "outputs": [
        {
          "output_type": "execute_result",
          "data": {
            "application/vnd.google.colaboratory.intrinsic+json": {
              "type": "string"
            },
            "text/plain": [
              "'/content/sample_data/fpt/fa/california_housing_train.csv'"
            ]
          },
          "metadata": {
            "tags": []
          },
          "execution_count": 36
        }
      ]
    },
    {
      "cell_type": "markdown",
      "metadata": {
        "id": "8fwmXrDkNSSQ",
        "colab_type": "text"
      },
      "source": [
        "## Copying Directories"
      ]
    },
    {
      "cell_type": "code",
      "metadata": {
        "id": "m2MDxebHNOyA",
        "colab_type": "code",
        "colab": {
          "base_uri": "https://localhost:8080/",
          "height": 35
        },
        "outputId": "03f6183d-1f77-4b7b-a714-0c2c13540084"
      },
      "source": [
        "import shutil\n",
        "shutil.copytree('/content/sample_data/fpt/fa', 'data1_backup')"
      ],
      "execution_count": null,
      "outputs": [
        {
          "output_type": "execute_result",
          "data": {
            "application/vnd.google.colaboratory.intrinsic+json": {
              "type": "string"
            },
            "text/plain": [
              "'data1_backup'"
            ]
          },
          "metadata": {
            "tags": []
          },
          "execution_count": 37
        }
      ]
    },
    {
      "cell_type": "markdown",
      "metadata": {
        "id": "IcoEd6Z2Nfup",
        "colab_type": "text"
      },
      "source": [
        "## Moving Files and Directories"
      ]
    },
    {
      "cell_type": "code",
      "metadata": {
        "id": "xpMayDN0NZF5",
        "colab_type": "code",
        "colab": {
          "base_uri": "https://localhost:8080/",
          "height": 35
        },
        "outputId": "807781d0-7dbd-4900-bc30-d0bcf517f581"
      },
      "source": [
        "import shutil\n",
        "shutil.move('/content/sample_data/fpt/fa/', '/content/')"
      ],
      "execution_count": null,
      "outputs": [
        {
          "output_type": "execute_result",
          "data": {
            "application/vnd.google.colaboratory.intrinsic+json": {
              "type": "string"
            },
            "text/plain": [
              "'/content/fa'"
            ]
          },
          "metadata": {
            "tags": []
          },
          "execution_count": 38
        }
      ]
    },
    {
      "cell_type": "markdown",
      "metadata": {
        "id": "g5TdSBZjNsfP",
        "colab_type": "text"
      },
      "source": [
        "## Renaming Files and Directories"
      ]
    },
    {
      "cell_type": "code",
      "metadata": {
        "id": "kohbWWQ7Nnhr",
        "colab_type": "code",
        "colab": {}
      },
      "source": [
        "import os\n",
        "\n",
        "os.rename('/content/data1_backup/california_housing_train.csv', '/content/data1_backup/california_housing_train_copy.csv')"
      ],
      "execution_count": null,
      "outputs": []
    },
    {
      "cell_type": "code",
      "metadata": {
        "id": "9CmAC3oIN05Z",
        "colab_type": "code",
        "colab": {}
      },
      "source": [
        ""
      ],
      "execution_count": null,
      "outputs": []
    }
  ]
}