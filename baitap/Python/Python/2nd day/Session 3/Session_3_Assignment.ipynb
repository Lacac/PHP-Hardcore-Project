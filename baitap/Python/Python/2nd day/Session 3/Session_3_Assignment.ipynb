{
 "cells": [
  {
   "cell_type": "markdown",
   "metadata": {
    "colab_type": "text",
    "id": "uFLD6VvmV4h5"
   },
   "source": [
    "\n",
    "Cho file data.txt sử dụng các thao tác xử lý với file để thực hiện các nhiệm vụ sau:\n",
    "\n",
    "- Tạo packages utils và các modules file_utils.py và word_utils.py\n",
    "- module file_utils.py chứa các hàm thao tác đến file như đọc ghi file.\n",
    "- module word_utils.py chứa các hàm thao đến dữ liệu như đếm từ, tạo từ điển.\n",
    "- Sử dụng try - except để bắt các sự kiện khi không tìm thấy file khi đọc ghi\n",
    "- Tạo file main.py thực hiện import các pack\n"
   ]
  },
  {
   "cell_type": "raw",
   "metadata": {},
   "source": [
    "project/\n",
    "│   readme.md\n",
    "│\n",
    "└───utils/\n",
    "│       file_utils.py\n",
    "|       word_utils.py\n",
    "|       __init__.py      \n",
    "│   \n",
    "└───main.py"
   ]
  },
  {
   "cell_type": "code",
   "execution_count": null,
   "metadata": {
    "colab": {},
    "colab_type": "code",
    "id": "aS5Gzau3A6f2"
   },
   "outputs": [],
   "source": []
  }
 ],
 "metadata": {
  "colab": {
   "collapsed_sections": [],
   "name": "Session_3_Assignment.ipynb",
   "provenance": []
  },
  "kernelspec": {
   "display_name": "Python 3",
   "language": "python",
   "name": "python3"
  },
  "language_info": {
   "codemirror_mode": {
    "name": "ipython",
    "version": 3
   },
   "file_extension": ".py",
   "mimetype": "text/x-python",
   "name": "python",
   "nbconvert_exporter": "python",
   "pygments_lexer": "ipython3",
   "version": "3.6.4"
  }
 },
 "nbformat": 4,
 "nbformat_minor": 2
}
